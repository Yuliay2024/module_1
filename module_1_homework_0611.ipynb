{
 "cells": [
  {
   "cell_type": "markdown",
   "metadata": {
    "pycharm": {
     "name": "#%% md\n"
    }
   },
   "source": [
    "# Домашнее задание на проверку знаний библиотеки для анализа данных Pandas.\n",
    "\n",
    "Вам представлен датасет, который содержит информацию по результатам сезона 2016 года игры в бейсбол.\n",
    "\n",
    "Вам необходимо загрузить датасет (он находится в архиве с текущим домашним заданием). Провести его очистку, если это необходимо и ответить на поставленные аналитические\n",
    "вопросы.\n",
    "\n",
    "Список колонок, представленных в датасете:\n",
    "\n",
    "---\n",
    "* attendance        - количество зрителей матча\n",
    "* away_team         - название гостевой команды\n",
    "* away_team_errors  - количество ошибок гостевой команды\n",
    "* away_team_hits    - количество хитов гостевой команды (хит в бейсболе - удар при котором отбивающий достиг первой базы)\n",
    "* away_team_runs    - количество ранов гостевой команды (ран в бейсболе - очко заработанное игроком нападения)\n",
    "* date              - дата проведения матча\n",
    "* field_type        - тип игрового поля\n",
    "* game_type         - тип игры\n",
    "* home_team         - название домашней команды\n",
    "* home_team_errors  - количество ошибок домашней команды\n",
    "* home_team_hits    - количество хитов домашней команды (хит в бейсболе - удар при котором отбивающий достиг первой базы)\n",
    "* home_team_runs    - количество ранов домашней команды (ран в бейсболе - очко заработанное игроком нападения)\n",
    "* start_time        - время начала игрового матча\n",
    "* venue             - название места проведения матча (стадион, поле, арена)\n",
    "* day_of_week       - день недели проведения матча\n",
    "* temperature       - температура воздуха в день проведения матча в фаренгейтах\n",
    "* wind_speed        - скорость ветра в день проведения матча\n",
    "* wind_direction    - направление скорости ветра\n",
    "* sky               - облачность\n",
    "* total_runs        - общее количество ранов для двух команд\n",
    "* game_hours_dec    - длительность матча указаная в часах\n",
    "* season            - тип игрового сезона\n",
    "* home_team_win     - результат домашней команды (1 - выигрыш)\n",
    "* home_team_loss    - результат домашней команды (0 - проигрыш)\n",
    "* home_team_outcome - исход матча\n",
    "---\n",
    "\n",
    "Всего в задании 20 вопросов. За каждый правильный вопрос начисляется 5 баллов. Таким образом за все правильные ответы вы получите - 100 баллов. Оценка затем будет приведена к 10-ти бальной шкале.\n",
    "\n",
    "---\n",
    "\n",
    "**Кроме того, баллы могут быть снижены за**:\n",
    "\n",
    "- 1 балл снижается за качество кода - старайтесь чтобы код был максимально лаконичным. Названия переменных (если они используются) должны отражать максимальную ее сущность. Вывод старайтесь делать минимальным, так как первичная цель - сделать качественный анализ, чтобы быстро ответить на поставленный вопрос (никаких таблиц на 100 строк).\n",
    "\n",
    "\n",
    "- 5 баллов снижается если ответ на домашнюю работу будет прислан в виде скриншота, ноутбука, текстового файла и прочих способов. Используйте при отправке на проверку только GitHub/GitLab либо прочий сервис. Присылать домашнюю работу необходимо ссылкой на ваш репозиторий на адрес электронной почты maratmovlamov2017@gmail.com\n",
    "\n",
    "\n",
    "- за каждый день просрочки дедлайна снижается по 10 баллов. Один день - минус 10 баллов, второй день минус 10 баллов, третий день минус 10 баллов. Соблюдайте сроки и не приступайте к домашнему заданию в последний момент.\n",
    "\n",
    "---\n",
    "\n",
    "Удачи вам в поисках истинны :)"
   ]
  },
  {
   "cell_type": "code",
   "execution_count": 2,
   "metadata": {
    "pycharm": {
     "name": "#%%\n"
    }
   },
   "outputs": [],
   "source": [
    "# Импортируйте все необходимые библиотеки и модули которые вам необходимы\n",
    "import pandas as pd\n",
    "import numpy as np\n",
    "from datetime import datetime"
   ]
  },
  {
   "cell_type": "code",
   "execution_count": 3,
   "metadata": {
    "pycharm": {
     "name": "#%%\n"
    }
   },
   "outputs": [
    {
     "data": {
      "text/html": [
       "<div>\n",
       "<style scoped>\n",
       "    .dataframe tbody tr th:only-of-type {\n",
       "        vertical-align: middle;\n",
       "    }\n",
       "\n",
       "    .dataframe tbody tr th {\n",
       "        vertical-align: top;\n",
       "    }\n",
       "\n",
       "    .dataframe thead th {\n",
       "        text-align: right;\n",
       "    }\n",
       "</style>\n",
       "<table border=\"1\" class=\"dataframe\">\n",
       "  <thead>\n",
       "    <tr style=\"text-align: right;\">\n",
       "      <th></th>\n",
       "      <th>Unnamed: 0</th>\n",
       "      <th>attendance</th>\n",
       "      <th>away_team</th>\n",
       "      <th>away_team_errors</th>\n",
       "      <th>away_team_hits</th>\n",
       "      <th>away_team_runs</th>\n",
       "      <th>date</th>\n",
       "      <th>field_type</th>\n",
       "      <th>game_type</th>\n",
       "      <th>home_team</th>\n",
       "      <th>...</th>\n",
       "      <th>temperature</th>\n",
       "      <th>wind_speed</th>\n",
       "      <th>wind_direction</th>\n",
       "      <th>sky</th>\n",
       "      <th>total_runs</th>\n",
       "      <th>game_hours_dec</th>\n",
       "      <th>season</th>\n",
       "      <th>home_team_win</th>\n",
       "      <th>home_team_loss</th>\n",
       "      <th>home_team_outcome</th>\n",
       "    </tr>\n",
       "  </thead>\n",
       "  <tbody>\n",
       "    <tr>\n",
       "      <th>0</th>\n",
       "      <td>0</td>\n",
       "      <td>40030.0</td>\n",
       "      <td>New York Mets</td>\n",
       "      <td>1</td>\n",
       "      <td>7</td>\n",
       "      <td>3</td>\n",
       "      <td>2016-04-03</td>\n",
       "      <td>on grass</td>\n",
       "      <td>Night Game</td>\n",
       "      <td>Kansas City Royals</td>\n",
       "      <td>...</td>\n",
       "      <td>74.0</td>\n",
       "      <td>14.0</td>\n",
       "      <td>from Right to Left</td>\n",
       "      <td>Sunny</td>\n",
       "      <td>7</td>\n",
       "      <td>3.216667</td>\n",
       "      <td>regular season</td>\n",
       "      <td>1</td>\n",
       "      <td>0</td>\n",
       "      <td>Win</td>\n",
       "    </tr>\n",
       "    <tr>\n",
       "      <th>1</th>\n",
       "      <td>1</td>\n",
       "      <td>21621.0</td>\n",
       "      <td>Philadelphia Phillies</td>\n",
       "      <td>0</td>\n",
       "      <td>5</td>\n",
       "      <td>2</td>\n",
       "      <td>2016-04-06</td>\n",
       "      <td>on grass</td>\n",
       "      <td>Night Game</td>\n",
       "      <td>Cincinnati Reds</td>\n",
       "      <td>...</td>\n",
       "      <td>55.0</td>\n",
       "      <td>24.0</td>\n",
       "      <td>from Right to Left</td>\n",
       "      <td>Overcast</td>\n",
       "      <td>5</td>\n",
       "      <td>2.383333</td>\n",
       "      <td>regular season</td>\n",
       "      <td>1</td>\n",
       "      <td>0</td>\n",
       "      <td>Win</td>\n",
       "    </tr>\n",
       "    <tr>\n",
       "      <th>2</th>\n",
       "      <td>2</td>\n",
       "      <td>12622.0</td>\n",
       "      <td>Minnesota Twins</td>\n",
       "      <td>0</td>\n",
       "      <td>5</td>\n",
       "      <td>2</td>\n",
       "      <td>2016-04-06</td>\n",
       "      <td>on grass</td>\n",
       "      <td>Night Game</td>\n",
       "      <td>Baltimore Orioles</td>\n",
       "      <td>...</td>\n",
       "      <td>48.0</td>\n",
       "      <td>7.0</td>\n",
       "      <td>out to Leftfield</td>\n",
       "      <td>Unknown</td>\n",
       "      <td>6</td>\n",
       "      <td>3.183333</td>\n",
       "      <td>regular season</td>\n",
       "      <td>1</td>\n",
       "      <td>0</td>\n",
       "      <td>Win</td>\n",
       "    </tr>\n",
       "    <tr>\n",
       "      <th>3</th>\n",
       "      <td>3</td>\n",
       "      <td>18531.0</td>\n",
       "      <td>Washington Nationals</td>\n",
       "      <td>0</td>\n",
       "      <td>8</td>\n",
       "      <td>3</td>\n",
       "      <td>2016-04-06</td>\n",
       "      <td>on grass</td>\n",
       "      <td>Night Game</td>\n",
       "      <td>Atlanta Braves</td>\n",
       "      <td>...</td>\n",
       "      <td>65.0</td>\n",
       "      <td>10.0</td>\n",
       "      <td>from Right to Left</td>\n",
       "      <td>Cloudy</td>\n",
       "      <td>4</td>\n",
       "      <td>2.883333</td>\n",
       "      <td>regular season</td>\n",
       "      <td>0</td>\n",
       "      <td>1</td>\n",
       "      <td>Loss</td>\n",
       "    </tr>\n",
       "    <tr>\n",
       "      <th>4</th>\n",
       "      <td>4</td>\n",
       "      <td>18572.0</td>\n",
       "      <td>Colorado Rockies</td>\n",
       "      <td>1</td>\n",
       "      <td>8</td>\n",
       "      <td>4</td>\n",
       "      <td>2016-04-06</td>\n",
       "      <td>on grass</td>\n",
       "      <td>Day Game</td>\n",
       "      <td>Arizona Diamondbacks</td>\n",
       "      <td>...</td>\n",
       "      <td>77.0</td>\n",
       "      <td>0.0</td>\n",
       "      <td>in unknown direction</td>\n",
       "      <td>In Dome</td>\n",
       "      <td>7</td>\n",
       "      <td>2.650000</td>\n",
       "      <td>regular season</td>\n",
       "      <td>0</td>\n",
       "      <td>1</td>\n",
       "      <td>Loss</td>\n",
       "    </tr>\n",
       "  </tbody>\n",
       "</table>\n",
       "<p>5 rows × 26 columns</p>\n",
       "</div>"
      ],
      "text/plain": [
       "   Unnamed: 0  attendance              away_team  away_team_errors  \\\n",
       "0           0     40030.0          New York Mets                 1   \n",
       "1           1     21621.0  Philadelphia Phillies                 0   \n",
       "2           2     12622.0        Minnesota Twins                 0   \n",
       "3           3     18531.0   Washington Nationals                 0   \n",
       "4           4     18572.0       Colorado Rockies                 1   \n",
       "\n",
       "   away_team_hits  away_team_runs        date field_type   game_type  \\\n",
       "0               7               3  2016-04-03   on grass  Night Game   \n",
       "1               5               2  2016-04-06   on grass  Night Game   \n",
       "2               5               2  2016-04-06   on grass  Night Game   \n",
       "3               8               3  2016-04-06   on grass  Night Game   \n",
       "4               8               4  2016-04-06   on grass    Day Game   \n",
       "\n",
       "              home_team  ...  temperature  wind_speed         wind_direction  \\\n",
       "0    Kansas City Royals  ...         74.0        14.0     from Right to Left   \n",
       "1       Cincinnati Reds  ...         55.0        24.0     from Right to Left   \n",
       "2     Baltimore Orioles  ...         48.0         7.0       out to Leftfield   \n",
       "3        Atlanta Braves  ...         65.0        10.0     from Right to Left   \n",
       "4  Arizona Diamondbacks  ...         77.0         0.0   in unknown direction   \n",
       "\n",
       "        sky total_runs game_hours_dec          season  home_team_win  \\\n",
       "0     Sunny          7       3.216667  regular season              1   \n",
       "1  Overcast          5       2.383333  regular season              1   \n",
       "2   Unknown          6       3.183333  regular season              1   \n",
       "3    Cloudy          4       2.883333  regular season              0   \n",
       "4   In Dome          7       2.650000  regular season              0   \n",
       "\n",
       "  home_team_loss home_team_outcome  \n",
       "0              0               Win  \n",
       "1              0               Win  \n",
       "2              0               Win  \n",
       "3              1              Loss  \n",
       "4              1              Loss  \n",
       "\n",
       "[5 rows x 26 columns]"
      ]
     },
     "execution_count": 3,
     "metadata": {},
     "output_type": "execute_result"
    }
   ],
   "source": [
    "# Загрузите датасет и проведите его очистку и форматирование если это необходимо\n",
    "data = pd.read_csv( 'D:/HW/practical_task/baseball_games.csv', delimiter = ',')\n",
    "data.head(5)"
   ]
  },
  {
   "cell_type": "code",
   "execution_count": 4,
   "metadata": {},
   "outputs": [
    {
     "data": {
      "text/html": [
       "<div>\n",
       "<style scoped>\n",
       "    .dataframe tbody tr th:only-of-type {\n",
       "        vertical-align: middle;\n",
       "    }\n",
       "\n",
       "    .dataframe tbody tr th {\n",
       "        vertical-align: top;\n",
       "    }\n",
       "\n",
       "    .dataframe thead th {\n",
       "        text-align: right;\n",
       "    }\n",
       "</style>\n",
       "<table border=\"1\" class=\"dataframe\">\n",
       "  <thead>\n",
       "    <tr style=\"text-align: right;\">\n",
       "      <th></th>\n",
       "      <th>Unnamed: 0</th>\n",
       "      <th>attendance</th>\n",
       "      <th>away_team</th>\n",
       "      <th>away_team_errors</th>\n",
       "      <th>away_team_hits</th>\n",
       "      <th>away_team_runs</th>\n",
       "      <th>date</th>\n",
       "      <th>field_type</th>\n",
       "      <th>game_type</th>\n",
       "      <th>home_team</th>\n",
       "      <th>...</th>\n",
       "      <th>temperature</th>\n",
       "      <th>wind_speed</th>\n",
       "      <th>wind_direction</th>\n",
       "      <th>sky</th>\n",
       "      <th>total_runs</th>\n",
       "      <th>game_hours_dec</th>\n",
       "      <th>season</th>\n",
       "      <th>home_team_win</th>\n",
       "      <th>home_team_loss</th>\n",
       "      <th>home_team_outcome</th>\n",
       "    </tr>\n",
       "  </thead>\n",
       "  <tbody>\n",
       "    <tr>\n",
       "      <th>0</th>\n",
       "      <td>0</td>\n",
       "      <td>40030.0</td>\n",
       "      <td>New York Mets</td>\n",
       "      <td>1</td>\n",
       "      <td>7</td>\n",
       "      <td>3</td>\n",
       "      <td>2016-04-03</td>\n",
       "      <td>on grass</td>\n",
       "      <td>Night Game</td>\n",
       "      <td>Kansas City Royals</td>\n",
       "      <td>...</td>\n",
       "      <td>74.0</td>\n",
       "      <td>14.0</td>\n",
       "      <td>from Right to Left</td>\n",
       "      <td>Sunny</td>\n",
       "      <td>7</td>\n",
       "      <td>3.216667</td>\n",
       "      <td>regular season</td>\n",
       "      <td>1</td>\n",
       "      <td>0</td>\n",
       "      <td>Win</td>\n",
       "    </tr>\n",
       "    <tr>\n",
       "      <th>1</th>\n",
       "      <td>1</td>\n",
       "      <td>21621.0</td>\n",
       "      <td>Philadelphia Phillies</td>\n",
       "      <td>0</td>\n",
       "      <td>5</td>\n",
       "      <td>2</td>\n",
       "      <td>2016-04-06</td>\n",
       "      <td>on grass</td>\n",
       "      <td>Night Game</td>\n",
       "      <td>Cincinnati Reds</td>\n",
       "      <td>...</td>\n",
       "      <td>55.0</td>\n",
       "      <td>24.0</td>\n",
       "      <td>from Right to Left</td>\n",
       "      <td>Overcast</td>\n",
       "      <td>5</td>\n",
       "      <td>2.383333</td>\n",
       "      <td>regular season</td>\n",
       "      <td>1</td>\n",
       "      <td>0</td>\n",
       "      <td>Win</td>\n",
       "    </tr>\n",
       "    <tr>\n",
       "      <th>2</th>\n",
       "      <td>2</td>\n",
       "      <td>12622.0</td>\n",
       "      <td>Minnesota Twins</td>\n",
       "      <td>0</td>\n",
       "      <td>5</td>\n",
       "      <td>2</td>\n",
       "      <td>2016-04-06</td>\n",
       "      <td>on grass</td>\n",
       "      <td>Night Game</td>\n",
       "      <td>Baltimore Orioles</td>\n",
       "      <td>...</td>\n",
       "      <td>48.0</td>\n",
       "      <td>7.0</td>\n",
       "      <td>out to Leftfield</td>\n",
       "      <td>Unknown</td>\n",
       "      <td>6</td>\n",
       "      <td>3.183333</td>\n",
       "      <td>regular season</td>\n",
       "      <td>1</td>\n",
       "      <td>0</td>\n",
       "      <td>Win</td>\n",
       "    </tr>\n",
       "    <tr>\n",
       "      <th>3</th>\n",
       "      <td>3</td>\n",
       "      <td>18531.0</td>\n",
       "      <td>Washington Nationals</td>\n",
       "      <td>0</td>\n",
       "      <td>8</td>\n",
       "      <td>3</td>\n",
       "      <td>2016-04-06</td>\n",
       "      <td>on grass</td>\n",
       "      <td>Night Game</td>\n",
       "      <td>Atlanta Braves</td>\n",
       "      <td>...</td>\n",
       "      <td>65.0</td>\n",
       "      <td>10.0</td>\n",
       "      <td>from Right to Left</td>\n",
       "      <td>Cloudy</td>\n",
       "      <td>4</td>\n",
       "      <td>2.883333</td>\n",
       "      <td>regular season</td>\n",
       "      <td>0</td>\n",
       "      <td>1</td>\n",
       "      <td>Loss</td>\n",
       "    </tr>\n",
       "    <tr>\n",
       "      <th>4</th>\n",
       "      <td>4</td>\n",
       "      <td>18572.0</td>\n",
       "      <td>Colorado Rockies</td>\n",
       "      <td>1</td>\n",
       "      <td>8</td>\n",
       "      <td>4</td>\n",
       "      <td>2016-04-06</td>\n",
       "      <td>on grass</td>\n",
       "      <td>Day Game</td>\n",
       "      <td>Arizona Diamondbacks</td>\n",
       "      <td>...</td>\n",
       "      <td>77.0</td>\n",
       "      <td>0.0</td>\n",
       "      <td>in unknown direction</td>\n",
       "      <td>In Dome</td>\n",
       "      <td>7</td>\n",
       "      <td>2.650000</td>\n",
       "      <td>regular season</td>\n",
       "      <td>0</td>\n",
       "      <td>1</td>\n",
       "      <td>Loss</td>\n",
       "    </tr>\n",
       "  </tbody>\n",
       "</table>\n",
       "<p>5 rows × 26 columns</p>\n",
       "</div>"
      ],
      "text/plain": [
       "   Unnamed: 0  attendance              away_team  away_team_errors  \\\n",
       "0           0     40030.0          New York Mets                 1   \n",
       "1           1     21621.0  Philadelphia Phillies                 0   \n",
       "2           2     12622.0        Minnesota Twins                 0   \n",
       "3           3     18531.0   Washington Nationals                 0   \n",
       "4           4     18572.0       Colorado Rockies                 1   \n",
       "\n",
       "   away_team_hits  away_team_runs        date field_type   game_type  \\\n",
       "0               7               3  2016-04-03   on grass  Night Game   \n",
       "1               5               2  2016-04-06   on grass  Night Game   \n",
       "2               5               2  2016-04-06   on grass  Night Game   \n",
       "3               8               3  2016-04-06   on grass  Night Game   \n",
       "4               8               4  2016-04-06   on grass    Day Game   \n",
       "\n",
       "              home_team  ...  temperature  wind_speed         wind_direction  \\\n",
       "0    Kansas City Royals  ...         74.0        14.0     from Right to Left   \n",
       "1       Cincinnati Reds  ...         55.0        24.0     from Right to Left   \n",
       "2     Baltimore Orioles  ...         48.0         7.0       out to Leftfield   \n",
       "3        Atlanta Braves  ...         65.0        10.0     from Right to Left   \n",
       "4  Arizona Diamondbacks  ...         77.0         0.0   in unknown direction   \n",
       "\n",
       "        sky total_runs game_hours_dec          season  home_team_win  \\\n",
       "0     Sunny          7       3.216667  regular season              1   \n",
       "1  Overcast          5       2.383333  regular season              1   \n",
       "2   Unknown          6       3.183333  regular season              1   \n",
       "3    Cloudy          4       2.883333  regular season              0   \n",
       "4   In Dome          7       2.650000  regular season              0   \n",
       "\n",
       "  home_team_loss home_team_outcome  \n",
       "0              0               Win  \n",
       "1              0               Win  \n",
       "2              0               Win  \n",
       "3              1              Loss  \n",
       "4              1              Loss  \n",
       "\n",
       "[5 rows x 26 columns]"
      ]
     },
     "execution_count": 4,
     "metadata": {},
     "output_type": "execute_result"
    }
   ],
   "source": [
    "regular_games = data.query('season == \"regular season\"')\n",
    "regular_games.head(5) #исключаем из DF товарищеские матчи"
   ]
  },
  {
   "cell_type": "code",
   "execution_count": 5,
   "metadata": {},
   "outputs": [
    {
     "data": {
      "text/plain": [
       "['Unnamed: 0',\n",
       " 'attendance',\n",
       " 'away_team',\n",
       " 'away_team_errors',\n",
       " 'away_team_hits',\n",
       " 'away_team_runs',\n",
       " 'date',\n",
       " 'field_type',\n",
       " 'game_type',\n",
       " 'home_team',\n",
       " 'home_team_errors',\n",
       " 'home_team_hits',\n",
       " 'home_team_runs',\n",
       " 'start_time',\n",
       " 'venue',\n",
       " 'day_of_week',\n",
       " 'temperature',\n",
       " 'wind_speed',\n",
       " 'wind_direction',\n",
       " 'sky',\n",
       " 'total_runs',\n",
       " 'game_hours_dec',\n",
       " 'season',\n",
       " 'home_team_win',\n",
       " 'home_team_loss',\n",
       " 'home_team_outcome']"
      ]
     },
     "execution_count": 5,
     "metadata": {},
     "output_type": "execute_result"
    }
   ],
   "source": [
    "data.columns.tolist() #список колонок\n",
    "\n"
   ]
  },
  {
   "cell_type": "code",
   "execution_count": 6,
   "metadata": {},
   "outputs": [
    {
     "data": {
      "text/plain": [
       "2463"
      ]
     },
     "execution_count": 6,
     "metadata": {},
     "output_type": "execute_result"
    }
   ],
   "source": [
    "#количество строк\n",
    "len(data)\n"
   ]
  },
  {
   "cell_type": "markdown",
   "metadata": {
    "pycharm": {
     "name": "#%% md\n"
    }
   },
   "source": [
    "# 1. На какую игру пришло максимальное количество зрителей за весь сезон игр?"
   ]
  },
  {
   "cell_type": "code",
   "execution_count": 8,
   "metadata": {},
   "outputs": [
    {
     "data": {
      "text/plain": [
       "count     2425.000000\n",
       "mean     30168.937732\n",
       "std       9781.205573\n",
       "min       8766.000000\n",
       "25%      22274.000000\n",
       "50%      30357.000000\n",
       "75%      38089.000000\n",
       "max      53621.000000\n",
       "Name: attendance, dtype: float64"
      ]
     },
     "execution_count": 8,
     "metadata": {},
     "output_type": "execute_result"
    }
   ],
   "source": [
    "regular_games['attendance'].describe()  # описание столбца для опроверки макс значения"
   ]
  },
  {
   "cell_type": "code",
   "execution_count": 84,
   "metadata": {},
   "outputs": [
    {
     "data": {
      "text/html": [
       "<div>\n",
       "<style scoped>\n",
       "    .dataframe tbody tr th:only-of-type {\n",
       "        vertical-align: middle;\n",
       "    }\n",
       "\n",
       "    .dataframe tbody tr th {\n",
       "        vertical-align: top;\n",
       "    }\n",
       "\n",
       "    .dataframe thead th {\n",
       "        text-align: right;\n",
       "    }\n",
       "</style>\n",
       "<table border=\"1\" class=\"dataframe\">\n",
       "  <thead>\n",
       "    <tr style=\"text-align: right;\">\n",
       "      <th></th>\n",
       "      <th>Unnamed: 0</th>\n",
       "      <th>attendance</th>\n",
       "      <th>away_team</th>\n",
       "      <th>away_team_errors</th>\n",
       "      <th>away_team_hits</th>\n",
       "      <th>away_team_runs</th>\n",
       "      <th>date</th>\n",
       "      <th>field_type</th>\n",
       "      <th>game_type</th>\n",
       "      <th>home_team</th>\n",
       "      <th>...</th>\n",
       "      <th>temperature</th>\n",
       "      <th>wind_speed</th>\n",
       "      <th>wind_direction</th>\n",
       "      <th>sky</th>\n",
       "      <th>total_runs</th>\n",
       "      <th>game_hours_dec</th>\n",
       "      <th>season</th>\n",
       "      <th>home_team_win</th>\n",
       "      <th>home_team_loss</th>\n",
       "      <th>home_team_outcome</th>\n",
       "    </tr>\n",
       "  </thead>\n",
       "  <tbody>\n",
       "    <tr>\n",
       "      <th>534</th>\n",
       "      <td>534</td>\n",
       "      <td>53621.0</td>\n",
       "      <td>San Francisco Giants</td>\n",
       "      <td>1</td>\n",
       "      <td>11</td>\n",
       "      <td>2</td>\n",
       "      <td>2016-09-20</td>\n",
       "      <td>on grass</td>\n",
       "      <td>Night Game</td>\n",
       "      <td>Los Angeles Dodgers</td>\n",
       "      <td>...</td>\n",
       "      <td>77.0</td>\n",
       "      <td>6.0</td>\n",
       "      <td>out to Rightfield</td>\n",
       "      <td>Cloudy</td>\n",
       "      <td>2</td>\n",
       "      <td>3.6</td>\n",
       "      <td>regular season</td>\n",
       "      <td>0</td>\n",
       "      <td>1</td>\n",
       "      <td>Loss</td>\n",
       "    </tr>\n",
       "  </tbody>\n",
       "</table>\n",
       "<p>1 rows × 26 columns</p>\n",
       "</div>"
      ],
      "text/plain": [
       "     Unnamed: 0  attendance             away_team  away_team_errors  \\\n",
       "534         534     53621.0  San Francisco Giants                 1   \n",
       "\n",
       "     away_team_hits  away_team_runs        date field_type   game_type  \\\n",
       "534              11               2  2016-09-20   on grass  Night Game   \n",
       "\n",
       "               home_team  ...  temperature  wind_speed      wind_direction  \\\n",
       "534  Los Angeles Dodgers  ...         77.0         6.0   out to Rightfield   \n",
       "\n",
       "        sky total_runs game_hours_dec          season  home_team_win  \\\n",
       "534  Cloudy          2            3.6  regular season              0   \n",
       "\n",
       "    home_team_loss home_team_outcome  \n",
       "534              1              Loss  \n",
       "\n",
       "[1 rows x 26 columns]"
      ]
     },
     "execution_count": 84,
     "metadata": {},
     "output_type": "execute_result"
    }
   ],
   "source": [
    "max_attend = regular_games['attendance'].max() #находим максимальное значение в столбце количество зрителей\n",
    "max_attendance = regular_games.query('@max_attend == attendance') #отбираем строки, в которых количество зрителей равно макс значению \n",
    "max_attendance #игра сезона с максимальным количеством зрителей\n",
    " "
   ]
  },
  {
   "cell_type": "markdown",
   "metadata": {
    "pycharm": {
     "name": "#%% md\n"
    }
   },
   "source": [
    "# 2. Какая игра была самая холодная (temperature) за весь сезон?"
   ]
  },
  {
   "cell_type": "code",
   "execution_count": 11,
   "metadata": {},
   "outputs": [
    {
     "data": {
      "text/plain": [
       "count    2428.000000\n",
       "mean       73.914333\n",
       "std        10.549121\n",
       "min        31.000000\n",
       "25%        67.000000\n",
       "50%        74.000000\n",
       "75%        81.000000\n",
       "max       101.000000\n",
       "Name: temperature, dtype: float64"
      ]
     },
     "execution_count": 11,
     "metadata": {},
     "output_type": "execute_result"
    }
   ],
   "source": [
    "regular_games['temperature'].describe()  # описание столбца для опроверки мин значения"
   ]
  },
  {
   "cell_type": "code",
   "execution_count": 86,
   "metadata": {},
   "outputs": [
    {
     "data": {
      "text/html": [
       "<div>\n",
       "<style scoped>\n",
       "    .dataframe tbody tr th:only-of-type {\n",
       "        vertical-align: middle;\n",
       "    }\n",
       "\n",
       "    .dataframe tbody tr th {\n",
       "        vertical-align: top;\n",
       "    }\n",
       "\n",
       "    .dataframe thead th {\n",
       "        text-align: right;\n",
       "    }\n",
       "</style>\n",
       "<table border=\"1\" class=\"dataframe\">\n",
       "  <thead>\n",
       "    <tr style=\"text-align: right;\">\n",
       "      <th></th>\n",
       "      <th>Unnamed: 0</th>\n",
       "      <th>attendance</th>\n",
       "      <th>away_team</th>\n",
       "      <th>away_team_errors</th>\n",
       "      <th>away_team_hits</th>\n",
       "      <th>away_team_runs</th>\n",
       "      <th>date</th>\n",
       "      <th>field_type</th>\n",
       "      <th>game_type</th>\n",
       "      <th>home_team</th>\n",
       "      <th>...</th>\n",
       "      <th>temperature</th>\n",
       "      <th>wind_speed</th>\n",
       "      <th>wind_direction</th>\n",
       "      <th>sky</th>\n",
       "      <th>total_runs</th>\n",
       "      <th>game_hours_dec</th>\n",
       "      <th>season</th>\n",
       "      <th>home_team_win</th>\n",
       "      <th>home_team_loss</th>\n",
       "      <th>home_team_outcome</th>\n",
       "    </tr>\n",
       "  </thead>\n",
       "  <tbody>\n",
       "    <tr>\n",
       "      <th>2409</th>\n",
       "      <td>2409</td>\n",
       "      <td>32419.0</td>\n",
       "      <td>New York Yankees</td>\n",
       "      <td>1</td>\n",
       "      <td>13</td>\n",
       "      <td>8</td>\n",
       "      <td>2016-04-09</td>\n",
       "      <td>on grass</td>\n",
       "      <td>Day Game</td>\n",
       "      <td>Detroit Tigers</td>\n",
       "      <td>...</td>\n",
       "      <td>31.0</td>\n",
       "      <td>18.0</td>\n",
       "      <td>from Left to Right</td>\n",
       "      <td>Cloudy</td>\n",
       "      <td>12</td>\n",
       "      <td>3.333333</td>\n",
       "      <td>regular season</td>\n",
       "      <td>0</td>\n",
       "      <td>1</td>\n",
       "      <td>Loss</td>\n",
       "    </tr>\n",
       "  </tbody>\n",
       "</table>\n",
       "<p>1 rows × 26 columns</p>\n",
       "</div>"
      ],
      "text/plain": [
       "      Unnamed: 0  attendance         away_team  away_team_errors  \\\n",
       "2409        2409     32419.0  New York Yankees                 1   \n",
       "\n",
       "      away_team_hits  away_team_runs        date field_type game_type  \\\n",
       "2409              13               8  2016-04-09   on grass  Day Game   \n",
       "\n",
       "           home_team  ...  temperature  wind_speed       wind_direction  \\\n",
       "2409  Detroit Tigers  ...         31.0        18.0   from Left to Right   \n",
       "\n",
       "         sky total_runs game_hours_dec          season  home_team_win  \\\n",
       "2409  Cloudy         12       3.333333  regular season              0   \n",
       "\n",
       "     home_team_loss home_team_outcome  \n",
       "2409              1              Loss  \n",
       "\n",
       "[1 rows x 26 columns]"
      ]
     },
     "execution_count": 86,
     "metadata": {},
     "output_type": "execute_result"
    }
   ],
   "source": [
    "minimum = regular_games['temperature'].min() # находим минимальное значение\n",
    "min_temp = regular_games.query('@minimum == temperature') # в запрос добавляем условие, что температура равна мин значению \n",
    "min_temp #игра, которая состоялась при мин температуре в сезон\n"
   ]
  },
  {
   "cell_type": "markdown",
   "metadata": {
    "pycharm": {
     "name": "#%% md\n"
    }
   },
   "source": [
    "# 3. Какая игра была самая теплая за весь сезон?"
   ]
  },
  {
   "cell_type": "code",
   "execution_count": 88,
   "metadata": {
    "pycharm": {
     "name": "#%%\n"
    }
   },
   "outputs": [
    {
     "data": {
      "text/html": [
       "<div>\n",
       "<style scoped>\n",
       "    .dataframe tbody tr th:only-of-type {\n",
       "        vertical-align: middle;\n",
       "    }\n",
       "\n",
       "    .dataframe tbody tr th {\n",
       "        vertical-align: top;\n",
       "    }\n",
       "\n",
       "    .dataframe thead th {\n",
       "        text-align: right;\n",
       "    }\n",
       "</style>\n",
       "<table border=\"1\" class=\"dataframe\">\n",
       "  <thead>\n",
       "    <tr style=\"text-align: right;\">\n",
       "      <th></th>\n",
       "      <th>Unnamed: 0</th>\n",
       "      <th>attendance</th>\n",
       "      <th>away_team</th>\n",
       "      <th>away_team_errors</th>\n",
       "      <th>away_team_hits</th>\n",
       "      <th>away_team_runs</th>\n",
       "      <th>date</th>\n",
       "      <th>field_type</th>\n",
       "      <th>game_type</th>\n",
       "      <th>home_team</th>\n",
       "      <th>...</th>\n",
       "      <th>temperature</th>\n",
       "      <th>wind_speed</th>\n",
       "      <th>wind_direction</th>\n",
       "      <th>sky</th>\n",
       "      <th>total_runs</th>\n",
       "      <th>game_hours_dec</th>\n",
       "      <th>season</th>\n",
       "      <th>home_team_win</th>\n",
       "      <th>home_team_loss</th>\n",
       "      <th>home_team_outcome</th>\n",
       "    </tr>\n",
       "  </thead>\n",
       "  <tbody>\n",
       "    <tr>\n",
       "      <th>2026</th>\n",
       "      <td>2026</td>\n",
       "      <td>21753.0</td>\n",
       "      <td>San Francisco Giants</td>\n",
       "      <td>0</td>\n",
       "      <td>8</td>\n",
       "      <td>3</td>\n",
       "      <td>2016-05-13</td>\n",
       "      <td>on grass</td>\n",
       "      <td>Night Game</td>\n",
       "      <td>Arizona Diamondbacks</td>\n",
       "      <td>...</td>\n",
       "      <td>101.0</td>\n",
       "      <td>9.0</td>\n",
       "      <td>in unknown direction</td>\n",
       "      <td>Sunny</td>\n",
       "      <td>4</td>\n",
       "      <td>3.0</td>\n",
       "      <td>regular season</td>\n",
       "      <td>0</td>\n",
       "      <td>1</td>\n",
       "      <td>Loss</td>\n",
       "    </tr>\n",
       "  </tbody>\n",
       "</table>\n",
       "<p>1 rows × 26 columns</p>\n",
       "</div>"
      ],
      "text/plain": [
       "      Unnamed: 0  attendance             away_team  away_team_errors  \\\n",
       "2026        2026     21753.0  San Francisco Giants                 0   \n",
       "\n",
       "      away_team_hits  away_team_runs        date field_type   game_type  \\\n",
       "2026               8               3  2016-05-13   on grass  Night Game   \n",
       "\n",
       "                 home_team  ...  temperature  wind_speed  \\\n",
       "2026  Arizona Diamondbacks  ...        101.0         9.0   \n",
       "\n",
       "             wind_direction    sky total_runs game_hours_dec          season  \\\n",
       "2026   in unknown direction  Sunny          4            3.0  regular season   \n",
       "\n",
       "      home_team_win home_team_loss home_team_outcome  \n",
       "2026              0              1              Loss  \n",
       "\n",
       "[1 rows x 26 columns]"
      ]
     },
     "execution_count": 88,
     "metadata": {},
     "output_type": "execute_result"
    }
   ],
   "source": [
    "maximum = regular_games['temperature'].max() # находим максимальное значение\n",
    "max_temp = regular_games.query('@maximum == temperature') # в запрос добавляем условие, что температура равнс макс значению \n",
    "max_temp #игра, которая состоялась при макс температуре в сезон, самая теплая игра сезона"
   ]
  },
  {
   "cell_type": "markdown",
   "metadata": {
    "pycharm": {
     "name": "#%% md\n"
    }
   },
   "source": [
    "# 4. Какая игра в сезоне была самая долгая по продолжительности матча?"
   ]
  },
  {
   "cell_type": "code",
   "execution_count": 16,
   "metadata": {
    "pycharm": {
     "name": "#%%\n"
    }
   },
   "outputs": [
    {
     "data": {
      "text/plain": [
       "count    2428.000000\n",
       "mean        3.079517\n",
       "std         0.455968\n",
       "min         1.250000\n",
       "25%         2.783333\n",
       "50%         3.033333\n",
       "75%         3.300000\n",
       "max         6.216667\n",
       "Name: game_hours_dec, dtype: float64"
      ]
     },
     "execution_count": 16,
     "metadata": {},
     "output_type": "execute_result"
    }
   ],
   "source": [
    "regular_games['game_hours_dec'].describe()"
   ]
  },
  {
   "cell_type": "code",
   "execution_count": 90,
   "metadata": {},
   "outputs": [
    {
     "data": {
      "text/html": [
       "<div>\n",
       "<style scoped>\n",
       "    .dataframe tbody tr th:only-of-type {\n",
       "        vertical-align: middle;\n",
       "    }\n",
       "\n",
       "    .dataframe tbody tr th {\n",
       "        vertical-align: top;\n",
       "    }\n",
       "\n",
       "    .dataframe thead th {\n",
       "        text-align: right;\n",
       "    }\n",
       "</style>\n",
       "<table border=\"1\" class=\"dataframe\">\n",
       "  <thead>\n",
       "    <tr style=\"text-align: right;\">\n",
       "      <th></th>\n",
       "      <th>Unnamed: 0</th>\n",
       "      <th>attendance</th>\n",
       "      <th>away_team</th>\n",
       "      <th>away_team_errors</th>\n",
       "      <th>away_team_hits</th>\n",
       "      <th>away_team_runs</th>\n",
       "      <th>date</th>\n",
       "      <th>field_type</th>\n",
       "      <th>game_type</th>\n",
       "      <th>home_team</th>\n",
       "      <th>...</th>\n",
       "      <th>temperature</th>\n",
       "      <th>wind_speed</th>\n",
       "      <th>wind_direction</th>\n",
       "      <th>sky</th>\n",
       "      <th>total_runs</th>\n",
       "      <th>game_hours_dec</th>\n",
       "      <th>season</th>\n",
       "      <th>home_team_win</th>\n",
       "      <th>home_team_loss</th>\n",
       "      <th>home_team_outcome</th>\n",
       "    </tr>\n",
       "  </thead>\n",
       "  <tbody>\n",
       "    <tr>\n",
       "      <th>1445</th>\n",
       "      <td>1445</td>\n",
       "      <td>45825.0</td>\n",
       "      <td>Cleveland Indians</td>\n",
       "      <td>0</td>\n",
       "      <td>15</td>\n",
       "      <td>2</td>\n",
       "      <td>2016-07-01</td>\n",
       "      <td>on turf</td>\n",
       "      <td>Day Game</td>\n",
       "      <td>Toronto Blue Jays</td>\n",
       "      <td>...</td>\n",
       "      <td>68.0</td>\n",
       "      <td>0.0</td>\n",
       "      <td>in unknown direction</td>\n",
       "      <td>In Dome</td>\n",
       "      <td>3</td>\n",
       "      <td>6.216667</td>\n",
       "      <td>regular season</td>\n",
       "      <td>0</td>\n",
       "      <td>1</td>\n",
       "      <td>Loss</td>\n",
       "    </tr>\n",
       "  </tbody>\n",
       "</table>\n",
       "<p>1 rows × 26 columns</p>\n",
       "</div>"
      ],
      "text/plain": [
       "      Unnamed: 0  attendance          away_team  away_team_errors  \\\n",
       "1445        1445     45825.0  Cleveland Indians                 0   \n",
       "\n",
       "      away_team_hits  away_team_runs        date field_type game_type  \\\n",
       "1445              15               2  2016-07-01    on turf  Day Game   \n",
       "\n",
       "              home_team  ...  temperature  wind_speed         wind_direction  \\\n",
       "1445  Toronto Blue Jays  ...         68.0         0.0   in unknown direction   \n",
       "\n",
       "          sky total_runs game_hours_dec          season  home_team_win  \\\n",
       "1445  In Dome          3       6.216667  regular season              0   \n",
       "\n",
       "     home_team_loss home_team_outcome  \n",
       "1445              1              Loss  \n",
       "\n",
       "[1 rows x 26 columns]"
      ]
     },
     "execution_count": 90,
     "metadata": {},
     "output_type": "execute_result"
    }
   ],
   "source": [
    "max_game = regular_games['game_hours_dec'].max() #находим макс значение по столбцу\n",
    "max_game_hour = regular_games.query('@max_game == game_hours_dec') #отбираем столбцы, в которых продолжительность игры равна макс значению\n",
    "max_game_hour #самая продолжительная игра в сезоне"
   ]
  },
  {
   "cell_type": "markdown",
   "metadata": {
    "pycharm": {
     "name": "#%% md\n"
    }
   },
   "source": [
    "# 5. Какая игра в сезоне была самая короткая по продолжительности матча?"
   ]
  },
  {
   "cell_type": "code",
   "execution_count": 19,
   "metadata": {
    "pycharm": {
     "name": "#%%\n"
    }
   },
   "outputs": [
    {
     "data": {
      "text/html": [
       "<div>\n",
       "<style scoped>\n",
       "    .dataframe tbody tr th:only-of-type {\n",
       "        vertical-align: middle;\n",
       "    }\n",
       "\n",
       "    .dataframe tbody tr th {\n",
       "        vertical-align: top;\n",
       "    }\n",
       "\n",
       "    .dataframe thead th {\n",
       "        text-align: right;\n",
       "    }\n",
       "</style>\n",
       "<table border=\"1\" class=\"dataframe\">\n",
       "  <thead>\n",
       "    <tr style=\"text-align: right;\">\n",
       "      <th></th>\n",
       "      <th>Unnamed: 0</th>\n",
       "      <th>attendance</th>\n",
       "      <th>away_team</th>\n",
       "      <th>away_team_errors</th>\n",
       "      <th>away_team_hits</th>\n",
       "      <th>away_team_runs</th>\n",
       "      <th>date</th>\n",
       "      <th>field_type</th>\n",
       "      <th>game_type</th>\n",
       "      <th>home_team</th>\n",
       "      <th>...</th>\n",
       "      <th>temperature</th>\n",
       "      <th>wind_speed</th>\n",
       "      <th>wind_direction</th>\n",
       "      <th>sky</th>\n",
       "      <th>total_runs</th>\n",
       "      <th>game_hours_dec</th>\n",
       "      <th>season</th>\n",
       "      <th>home_team_win</th>\n",
       "      <th>home_team_loss</th>\n",
       "      <th>home_team_outcome</th>\n",
       "    </tr>\n",
       "  </thead>\n",
       "  <tbody>\n",
       "    <tr>\n",
       "      <th>423</th>\n",
       "      <td>423</td>\n",
       "      <td>19991.0</td>\n",
       "      <td>Chicago Cubs</td>\n",
       "      <td>1</td>\n",
       "      <td>4</td>\n",
       "      <td>1</td>\n",
       "      <td>2016-09-29</td>\n",
       "      <td>on grass</td>\n",
       "      <td>Night Game</td>\n",
       "      <td>Pittsburgh Pirates</td>\n",
       "      <td>...</td>\n",
       "      <td>63.0</td>\n",
       "      <td>12.0</td>\n",
       "      <td>in from Leftfield</td>\n",
       "      <td>Overcast</td>\n",
       "      <td>2</td>\n",
       "      <td>1.25</td>\n",
       "      <td>regular season</td>\n",
       "      <td>0</td>\n",
       "      <td>0</td>\n",
       "      <td>Loss</td>\n",
       "    </tr>\n",
       "  </tbody>\n",
       "</table>\n",
       "<p>1 rows × 26 columns</p>\n",
       "</div>"
      ],
      "text/plain": [
       "     Unnamed: 0  attendance     away_team  away_team_errors  away_team_hits  \\\n",
       "423         423     19991.0  Chicago Cubs                 1               4   \n",
       "\n",
       "     away_team_runs        date field_type   game_type           home_team  \\\n",
       "423               1  2016-09-29   on grass  Night Game  Pittsburgh Pirates   \n",
       "\n",
       "     ...  temperature  wind_speed      wind_direction       sky total_runs  \\\n",
       "423  ...         63.0        12.0   in from Leftfield  Overcast          2   \n",
       "\n",
       "    game_hours_dec          season  home_team_win home_team_loss  \\\n",
       "423           1.25  regular season              0              0   \n",
       "\n",
       "    home_team_outcome  \n",
       "423              Loss  \n",
       "\n",
       "[1 rows x 26 columns]"
      ]
     },
     "execution_count": 19,
     "metadata": {},
     "output_type": "execute_result"
    }
   ],
   "source": [
    "min_game = regular_games['game_hours_dec'].min() #находим минимальное значение\n",
    "short_game = regular_games.query('@min_game == game_hours_dec')\n",
    "short_game #самая короткая игра в сезоне"
   ]
  },
  {
   "cell_type": "markdown",
   "metadata": {
    "pycharm": {
     "name": "#%% md\n"
    }
   },
   "source": [
    "# 6. Сколько матчей в сезоне закончилось ничьей?"
   ]
  },
  {
   "cell_type": "code",
   "execution_count": 21,
   "metadata": {
    "pycharm": {
     "name": "#%%\n"
    }
   },
   "outputs": [
    {
     "data": {
      "text/plain": [
       "array(['Win', 'Loss'], dtype=object)"
      ]
     },
     "execution_count": 21,
     "metadata": {},
     "output_type": "execute_result"
    }
   ],
   "source": [
    "regular_games['home_team_outcome'].unique() # уникальные значения столбца исход матча, ничьей - нет"
   ]
  },
  {
   "cell_type": "code",
   "execution_count": 22,
   "metadata": {},
   "outputs": [
    {
     "data": {
      "text/plain": [
       "array([1, 0], dtype=int64)"
      ]
     },
     "execution_count": 22,
     "metadata": {},
     "output_type": "execute_result"
    }
   ],
   "source": [
    "regular_games['home_team_win'].unique() # уникальные значения столбца\n"
   ]
  },
  {
   "cell_type": "code",
   "execution_count": 23,
   "metadata": {},
   "outputs": [
    {
     "data": {
      "text/plain": [
       "array([0, 1], dtype=int64)"
      ]
     },
     "execution_count": 23,
     "metadata": {},
     "output_type": "execute_result"
    }
   ],
   "source": [
    "regular_games['home_team_loss'].unique() # уникальные значения столбца\n"
   ]
  },
  {
   "cell_type": "code",
   "execution_count": 24,
   "metadata": {},
   "outputs": [
    {
     "data": {
      "text/html": [
       "<div>\n",
       "<style scoped>\n",
       "    .dataframe tbody tr th:only-of-type {\n",
       "        vertical-align: middle;\n",
       "    }\n",
       "\n",
       "    .dataframe tbody tr th {\n",
       "        vertical-align: top;\n",
       "    }\n",
       "\n",
       "    .dataframe thead th {\n",
       "        text-align: right;\n",
       "    }\n",
       "</style>\n",
       "<table border=\"1\" class=\"dataframe\">\n",
       "  <thead>\n",
       "    <tr style=\"text-align: right;\">\n",
       "      <th></th>\n",
       "      <th>home_team_outcome</th>\n",
       "      <th>home_team_win</th>\n",
       "      <th>home_team_loss</th>\n",
       "    </tr>\n",
       "  </thead>\n",
       "  <tbody>\n",
       "    <tr>\n",
       "      <th>0</th>\n",
       "      <td>Win</td>\n",
       "      <td>1</td>\n",
       "      <td>0</td>\n",
       "    </tr>\n",
       "    <tr>\n",
       "      <th>1</th>\n",
       "      <td>Win</td>\n",
       "      <td>1</td>\n",
       "      <td>0</td>\n",
       "    </tr>\n",
       "    <tr>\n",
       "      <th>2</th>\n",
       "      <td>Win</td>\n",
       "      <td>1</td>\n",
       "      <td>0</td>\n",
       "    </tr>\n",
       "    <tr>\n",
       "      <th>3</th>\n",
       "      <td>Loss</td>\n",
       "      <td>0</td>\n",
       "      <td>1</td>\n",
       "    </tr>\n",
       "    <tr>\n",
       "      <th>4</th>\n",
       "      <td>Loss</td>\n",
       "      <td>0</td>\n",
       "      <td>1</td>\n",
       "    </tr>\n",
       "  </tbody>\n",
       "</table>\n",
       "</div>"
      ],
      "text/plain": [
       "  home_team_outcome  home_team_win  home_team_loss\n",
       "0               Win              1               0\n",
       "1               Win              1               0\n",
       "2               Win              1               0\n",
       "3              Loss              0               1\n",
       "4              Loss              0               1"
      ]
     },
     "execution_count": 24,
     "metadata": {},
     "output_type": "execute_result"
    }
   ],
   "source": [
    "regular_games[['home_team_outcome', 'home_team_win', 'home_team_loss' ]].head(5)# для просмотра значений\n"
   ]
  },
  {
   "cell_type": "code",
   "execution_count": 25,
   "metadata": {},
   "outputs": [
    {
     "data": {
      "text/plain": [
       "home_team_outcome\n",
       "Win     1287\n",
       "Loss    1141\n",
       "Name: count, dtype: int64"
      ]
     },
     "execution_count": 25,
     "metadata": {},
     "output_type": "execute_result"
    }
   ],
   "source": [
    "outcome_game = regular_games['home_team_outcome'].value_counts()\n",
    "outcome_game #количество побед и поражений"
   ]
  },
  {
   "cell_type": "code",
   "execution_count": 26,
   "metadata": {},
   "outputs": [
    {
     "data": {
      "text/plain": [
       "home_team_loss\n",
       "0    1288\n",
       "1    1140\n",
       "Name: count, dtype: int64"
      ]
     },
     "execution_count": 26,
     "metadata": {},
     "output_type": "execute_result"
    }
   ],
   "source": [
    "regular_games['home_team_loss'].value_counts() #количество побед и поражений"
   ]
  },
  {
   "cell_type": "code",
   "execution_count": 27,
   "metadata": {},
   "outputs": [
    {
     "data": {
      "text/plain": [
       "home_team_win\n",
       "1    1287\n",
       "0    1141\n",
       "Name: count, dtype: int64"
      ]
     },
     "execution_count": 27,
     "metadata": {},
     "output_type": "execute_result"
    }
   ],
   "source": [
    "regular_games['home_team_win'].value_counts() #количество побед и поражений"
   ]
  },
  {
   "cell_type": "code",
   "execution_count": 28,
   "metadata": {},
   "outputs": [
    {
     "data": {
      "text/html": [
       "<div>\n",
       "<style scoped>\n",
       "    .dataframe tbody tr th:only-of-type {\n",
       "        vertical-align: middle;\n",
       "    }\n",
       "\n",
       "    .dataframe tbody tr th {\n",
       "        vertical-align: top;\n",
       "    }\n",
       "\n",
       "    .dataframe thead th {\n",
       "        text-align: right;\n",
       "    }\n",
       "</style>\n",
       "<table border=\"1\" class=\"dataframe\">\n",
       "  <thead>\n",
       "    <tr style=\"text-align: right;\">\n",
       "      <th></th>\n",
       "      <th>Unnamed: 0</th>\n",
       "      <th>attendance</th>\n",
       "      <th>away_team</th>\n",
       "      <th>away_team_errors</th>\n",
       "      <th>away_team_hits</th>\n",
       "      <th>away_team_runs</th>\n",
       "      <th>date</th>\n",
       "      <th>field_type</th>\n",
       "      <th>game_type</th>\n",
       "      <th>home_team</th>\n",
       "      <th>...</th>\n",
       "      <th>temperature</th>\n",
       "      <th>wind_speed</th>\n",
       "      <th>wind_direction</th>\n",
       "      <th>sky</th>\n",
       "      <th>total_runs</th>\n",
       "      <th>game_hours_dec</th>\n",
       "      <th>season</th>\n",
       "      <th>home_team_win</th>\n",
       "      <th>home_team_loss</th>\n",
       "      <th>home_team_outcome</th>\n",
       "    </tr>\n",
       "  </thead>\n",
       "  <tbody>\n",
       "    <tr>\n",
       "      <th>423</th>\n",
       "      <td>423</td>\n",
       "      <td>19991.0</td>\n",
       "      <td>Chicago Cubs</td>\n",
       "      <td>1</td>\n",
       "      <td>4</td>\n",
       "      <td>1</td>\n",
       "      <td>2016-09-29</td>\n",
       "      <td>on grass</td>\n",
       "      <td>Night Game</td>\n",
       "      <td>Pittsburgh Pirates</td>\n",
       "      <td>...</td>\n",
       "      <td>63.0</td>\n",
       "      <td>12.0</td>\n",
       "      <td>in from Leftfield</td>\n",
       "      <td>Overcast</td>\n",
       "      <td>2</td>\n",
       "      <td>1.25</td>\n",
       "      <td>regular season</td>\n",
       "      <td>0</td>\n",
       "      <td>0</td>\n",
       "      <td>Loss</td>\n",
       "    </tr>\n",
       "  </tbody>\n",
       "</table>\n",
       "<p>1 rows × 26 columns</p>\n",
       "</div>"
      ],
      "text/plain": [
       "     Unnamed: 0  attendance     away_team  away_team_errors  away_team_hits  \\\n",
       "423         423     19991.0  Chicago Cubs                 1               4   \n",
       "\n",
       "     away_team_runs        date field_type   game_type           home_team  \\\n",
       "423               1  2016-09-29   on grass  Night Game  Pittsburgh Pirates   \n",
       "\n",
       "     ...  temperature  wind_speed      wind_direction       sky total_runs  \\\n",
       "423  ...         63.0        12.0   in from Leftfield  Overcast          2   \n",
       "\n",
       "    game_hours_dec          season  home_team_win home_team_loss  \\\n",
       "423           1.25  regular season              0              0   \n",
       "\n",
       "    home_team_outcome  \n",
       "423              Loss  \n",
       "\n",
       "[1 rows x 26 columns]"
      ]
     },
     "execution_count": 28,
     "metadata": {},
     "output_type": "execute_result"
    }
   ],
   "source": [
    "outcome = regular_games.query('home_team_loss == home_team_win') # результаты сумм в home_team_outcome должны соответсвтовать home_team_win\n",
    "#и home_team_loss, выполнена проверка на одинаковые значения в столбце\n",
    "outcome # 1 матч закончился с ничьей: win=loss=0"
   ]
  },
  {
   "cell_type": "markdown",
   "metadata": {
    "pycharm": {
     "name": "#%% md\n"
    }
   },
   "source": [
    "# 7. Какая игра была последней в сезоне?"
   ]
  },
  {
   "cell_type": "code",
   "execution_count": 30,
   "metadata": {
    "pycharm": {
     "name": "#%%\n"
    }
   },
   "outputs": [
    {
     "data": {
      "text/plain": [
       "count           2463\n",
       "unique           203\n",
       "top       2016-05-07\n",
       "freq              16\n",
       "Name: date, dtype: object"
      ]
     },
     "execution_count": 30,
     "metadata": {},
     "output_type": "execute_result"
    }
   ],
   "source": [
    "data['date'].describe()"
   ]
  },
  {
   "cell_type": "code",
   "execution_count": 96,
   "metadata": {},
   "outputs": [
    {
     "data": {
      "text/html": [
       "<div>\n",
       "<style scoped>\n",
       "    .dataframe tbody tr th:only-of-type {\n",
       "        vertical-align: middle;\n",
       "    }\n",
       "\n",
       "    .dataframe tbody tr th {\n",
       "        vertical-align: top;\n",
       "    }\n",
       "\n",
       "    .dataframe thead th {\n",
       "        text-align: right;\n",
       "    }\n",
       "</style>\n",
       "<table border=\"1\" class=\"dataframe\">\n",
       "  <thead>\n",
       "    <tr style=\"text-align: right;\">\n",
       "      <th></th>\n",
       "      <th>Unnamed: 0</th>\n",
       "      <th>attendance</th>\n",
       "      <th>away_team</th>\n",
       "      <th>away_team_errors</th>\n",
       "      <th>away_team_hits</th>\n",
       "      <th>away_team_runs</th>\n",
       "      <th>date</th>\n",
       "      <th>field_type</th>\n",
       "      <th>game_type</th>\n",
       "      <th>home_team</th>\n",
       "      <th>...</th>\n",
       "      <th>temperature</th>\n",
       "      <th>wind_speed</th>\n",
       "      <th>wind_direction</th>\n",
       "      <th>sky</th>\n",
       "      <th>total_runs</th>\n",
       "      <th>game_hours_dec</th>\n",
       "      <th>season</th>\n",
       "      <th>home_team_win</th>\n",
       "      <th>home_team_loss</th>\n",
       "      <th>home_team_outcome</th>\n",
       "    </tr>\n",
       "  </thead>\n",
       "  <tbody>\n",
       "    <tr>\n",
       "      <th>395</th>\n",
       "      <td>395</td>\n",
       "      <td>36787.0</td>\n",
       "      <td>Toronto Blue Jays</td>\n",
       "      <td>0</td>\n",
       "      <td>9</td>\n",
       "      <td>2</td>\n",
       "      <td>2016-10-02</td>\n",
       "      <td>on grass</td>\n",
       "      <td>Day Game</td>\n",
       "      <td>Boston Red Sox</td>\n",
       "      <td>...</td>\n",
       "      <td>56.0</td>\n",
       "      <td>6.0</td>\n",
       "      <td>out to Leftfield</td>\n",
       "      <td>Unknown</td>\n",
       "      <td>3</td>\n",
       "      <td>3.233333</td>\n",
       "      <td>regular season</td>\n",
       "      <td>0</td>\n",
       "      <td>1</td>\n",
       "      <td>Loss</td>\n",
       "    </tr>\n",
       "  </tbody>\n",
       "</table>\n",
       "<p>1 rows × 26 columns</p>\n",
       "</div>"
      ],
      "text/plain": [
       "     Unnamed: 0  attendance          away_team  away_team_errors  \\\n",
       "395         395     36787.0  Toronto Blue Jays                 0   \n",
       "\n",
       "     away_team_hits  away_team_runs        date field_type game_type  \\\n",
       "395               9               2  2016-10-02   on grass  Day Game   \n",
       "\n",
       "          home_team  ...  temperature  wind_speed     wind_direction      sky  \\\n",
       "395  Boston Red Sox  ...         56.0         6.0   out to Leftfield  Unknown   \n",
       "\n",
       "    total_runs game_hours_dec          season  home_team_win home_team_loss  \\\n",
       "395          3       3.233333  regular season              0              1   \n",
       "\n",
       "    home_team_outcome  \n",
       "395              Loss  \n",
       "\n",
       "[1 rows x 26 columns]"
      ]
     },
     "execution_count": 96,
     "metadata": {},
     "output_type": "execute_result"
    }
   ],
   "source": [
    "max_day = regular_games['date'].max() #макс значение даты проведения матча\n",
    "l_game = regular_games.query('@max_day == date')  #отбор строк, в которых значение соответвует макс\n",
    "max_hour = l_game['start_time'].max() #макс значение времени начала проведения матча\n",
    "last_game = l_game.query('@max_hour == start_time') #из отбора с макс датой\n",
    "last_game #02/10/16 в 3:17 p.m. Local была последняя игра сезона regular season "
   ]
  },
  {
   "cell_type": "markdown",
   "metadata": {
    "pycharm": {
     "name": "#%% md\n"
    }
   },
   "source": [
    "# 8. У какой игры было минимальное количество зрителей?"
   ]
  },
  {
   "cell_type": "code",
   "execution_count": 98,
   "metadata": {},
   "outputs": [
    {
     "data": {
      "text/html": [
       "<div>\n",
       "<style scoped>\n",
       "    .dataframe tbody tr th:only-of-type {\n",
       "        vertical-align: middle;\n",
       "    }\n",
       "\n",
       "    .dataframe tbody tr th {\n",
       "        vertical-align: top;\n",
       "    }\n",
       "\n",
       "    .dataframe thead th {\n",
       "        text-align: right;\n",
       "    }\n",
       "</style>\n",
       "<table border=\"1\" class=\"dataframe\">\n",
       "  <thead>\n",
       "    <tr style=\"text-align: right;\">\n",
       "      <th></th>\n",
       "      <th>Unnamed: 0</th>\n",
       "      <th>attendance</th>\n",
       "      <th>away_team</th>\n",
       "      <th>away_team_errors</th>\n",
       "      <th>away_team_hits</th>\n",
       "      <th>away_team_runs</th>\n",
       "      <th>date</th>\n",
       "      <th>field_type</th>\n",
       "      <th>game_type</th>\n",
       "      <th>home_team</th>\n",
       "      <th>...</th>\n",
       "      <th>temperature</th>\n",
       "      <th>wind_speed</th>\n",
       "      <th>wind_direction</th>\n",
       "      <th>sky</th>\n",
       "      <th>total_runs</th>\n",
       "      <th>game_hours_dec</th>\n",
       "      <th>season</th>\n",
       "      <th>home_team_win</th>\n",
       "      <th>home_team_loss</th>\n",
       "      <th>home_team_outcome</th>\n",
       "    </tr>\n",
       "  </thead>\n",
       "  <tbody>\n",
       "    <tr>\n",
       "      <th>2130</th>\n",
       "      <td>2130</td>\n",
       "      <td>8766.0</td>\n",
       "      <td>Detroit Tigers</td>\n",
       "      <td>0</td>\n",
       "      <td>5</td>\n",
       "      <td>0</td>\n",
       "      <td>2016-05-04</td>\n",
       "      <td>on grass</td>\n",
       "      <td>Night Game</td>\n",
       "      <td>Cleveland Indians</td>\n",
       "      <td>...</td>\n",
       "      <td>54.0</td>\n",
       "      <td>11.0</td>\n",
       "      <td>from Left to Right</td>\n",
       "      <td>Overcast</td>\n",
       "      <td>4</td>\n",
       "      <td>2.316667</td>\n",
       "      <td>regular season</td>\n",
       "      <td>1</td>\n",
       "      <td>0</td>\n",
       "      <td>Win</td>\n",
       "    </tr>\n",
       "  </tbody>\n",
       "</table>\n",
       "<p>1 rows × 26 columns</p>\n",
       "</div>"
      ],
      "text/plain": [
       "      Unnamed: 0  attendance       away_team  away_team_errors  \\\n",
       "2130        2130      8766.0  Detroit Tigers                 0   \n",
       "\n",
       "      away_team_hits  away_team_runs        date field_type   game_type  \\\n",
       "2130               5               0  2016-05-04   on grass  Night Game   \n",
       "\n",
       "              home_team  ...  temperature  wind_speed       wind_direction  \\\n",
       "2130  Cleveland Indians  ...         54.0        11.0   from Left to Right   \n",
       "\n",
       "           sky total_runs game_hours_dec          season  home_team_win  \\\n",
       "2130  Overcast          4       2.316667  regular season              1   \n",
       "\n",
       "     home_team_loss home_team_outcome  \n",
       "2130              0               Win  \n",
       "\n",
       "[1 rows x 26 columns]"
      ]
     },
     "execution_count": 98,
     "metadata": {},
     "output_type": "execute_result"
    }
   ],
   "source": [
    "min_attend = data['attendance'].min() #находим минимальное значение в столбце количество зрителей\n",
    "min_attendance = data.query('@min_attend == attendance') \n",
    "min_attendance #игра сезона с минимальным количеством зрителей"
   ]
  },
  {
   "cell_type": "markdown",
   "metadata": {
    "pycharm": {
     "name": "#%% md\n"
    }
   },
   "source": [
    "# 9. Какая игра в сезоне была самая ветренная?"
   ]
  },
  {
   "cell_type": "code",
   "execution_count": 35,
   "metadata": {
    "pycharm": {
     "name": "#%%\n"
    }
   },
   "outputs": [
    {
     "data": {
      "text/plain": [
       "count    2428.000000\n",
       "mean        7.485997\n",
       "std         5.061489\n",
       "min         0.000000\n",
       "25%         4.000000\n",
       "50%         7.000000\n",
       "75%        11.000000\n",
       "max        25.000000\n",
       "Name: wind_speed, dtype: float64"
      ]
     },
     "execution_count": 35,
     "metadata": {},
     "output_type": "execute_result"
    }
   ],
   "source": [
    "regular_games['wind_speed'].describe()"
   ]
  },
  {
   "cell_type": "code",
   "execution_count": 100,
   "metadata": {},
   "outputs": [
    {
     "data": {
      "text/html": [
       "<div>\n",
       "<style scoped>\n",
       "    .dataframe tbody tr th:only-of-type {\n",
       "        vertical-align: middle;\n",
       "    }\n",
       "\n",
       "    .dataframe tbody tr th {\n",
       "        vertical-align: top;\n",
       "    }\n",
       "\n",
       "    .dataframe thead th {\n",
       "        text-align: right;\n",
       "    }\n",
       "</style>\n",
       "<table border=\"1\" class=\"dataframe\">\n",
       "  <thead>\n",
       "    <tr style=\"text-align: right;\">\n",
       "      <th></th>\n",
       "      <th>Unnamed: 0</th>\n",
       "      <th>attendance</th>\n",
       "      <th>away_team</th>\n",
       "      <th>away_team_errors</th>\n",
       "      <th>away_team_hits</th>\n",
       "      <th>away_team_runs</th>\n",
       "      <th>date</th>\n",
       "      <th>field_type</th>\n",
       "      <th>game_type</th>\n",
       "      <th>home_team</th>\n",
       "      <th>...</th>\n",
       "      <th>temperature</th>\n",
       "      <th>wind_speed</th>\n",
       "      <th>wind_direction</th>\n",
       "      <th>sky</th>\n",
       "      <th>total_runs</th>\n",
       "      <th>game_hours_dec</th>\n",
       "      <th>season</th>\n",
       "      <th>home_team_win</th>\n",
       "      <th>home_team_loss</th>\n",
       "      <th>home_team_outcome</th>\n",
       "    </tr>\n",
       "  </thead>\n",
       "  <tbody>\n",
       "    <tr>\n",
       "      <th>1655</th>\n",
       "      <td>1655</td>\n",
       "      <td>41543.0</td>\n",
       "      <td>Milwaukee Brewers</td>\n",
       "      <td>1</td>\n",
       "      <td>11</td>\n",
       "      <td>5</td>\n",
       "      <td>2016-06-13</td>\n",
       "      <td>on grass</td>\n",
       "      <td>Night Game</td>\n",
       "      <td>San Francisco Giants</td>\n",
       "      <td>...</td>\n",
       "      <td>58.0</td>\n",
       "      <td>25.0</td>\n",
       "      <td>out to Centerfield</td>\n",
       "      <td>Cloudy</td>\n",
       "      <td>16</td>\n",
       "      <td>3.633333</td>\n",
       "      <td>regular season</td>\n",
       "      <td>1</td>\n",
       "      <td>0</td>\n",
       "      <td>Win</td>\n",
       "    </tr>\n",
       "    <tr>\n",
       "      <th>2005</th>\n",
       "      <td>2005</td>\n",
       "      <td>35736.0</td>\n",
       "      <td>Houston Astros</td>\n",
       "      <td>2</td>\n",
       "      <td>8</td>\n",
       "      <td>9</td>\n",
       "      <td>2016-05-15</td>\n",
       "      <td>on grass</td>\n",
       "      <td>Day Game</td>\n",
       "      <td>Boston Red Sox</td>\n",
       "      <td>...</td>\n",
       "      <td>58.0</td>\n",
       "      <td>25.0</td>\n",
       "      <td>out to Rightfield</td>\n",
       "      <td>Cloudy</td>\n",
       "      <td>19</td>\n",
       "      <td>3.666667</td>\n",
       "      <td>regular season</td>\n",
       "      <td>1</td>\n",
       "      <td>0</td>\n",
       "      <td>Win</td>\n",
       "    </tr>\n",
       "  </tbody>\n",
       "</table>\n",
       "<p>2 rows × 26 columns</p>\n",
       "</div>"
      ],
      "text/plain": [
       "      Unnamed: 0  attendance          away_team  away_team_errors  \\\n",
       "1655        1655     41543.0  Milwaukee Brewers                 1   \n",
       "2005        2005     35736.0     Houston Astros                 2   \n",
       "\n",
       "      away_team_hits  away_team_runs        date field_type   game_type  \\\n",
       "1655              11               5  2016-06-13   on grass  Night Game   \n",
       "2005               8               9  2016-05-15   on grass    Day Game   \n",
       "\n",
       "                 home_team  ...  temperature  wind_speed       wind_direction  \\\n",
       "1655  San Francisco Giants  ...         58.0        25.0   out to Centerfield   \n",
       "2005        Boston Red Sox  ...         58.0        25.0    out to Rightfield   \n",
       "\n",
       "         sky total_runs game_hours_dec          season  home_team_win  \\\n",
       "1655  Cloudy         16       3.633333  regular season              1   \n",
       "2005  Cloudy         19       3.666667  regular season              1   \n",
       "\n",
       "     home_team_loss home_team_outcome  \n",
       "1655              0               Win  \n",
       "2005              0               Win  \n",
       "\n",
       "[2 rows x 26 columns]"
      ]
     },
     "execution_count": 100,
     "metadata": {},
     "output_type": "execute_result"
    }
   ],
   "source": [
    "max_wind = regular_games['wind_speed'].max() #находим максимальное значение в столбце скорость ветра\n",
    "max_wind\n",
    "wind_game = regular_games.query('@max_wind == wind_speed') \n",
    "wind_game #самая большая скорость ветра во время игры в сезоне - таких игры 2"
   ]
  },
  {
   "cell_type": "markdown",
   "metadata": {
    "pycharm": {
     "name": "#%% md\n"
    }
   },
   "source": [
    "# 10. В какой игре получили максимальное количество очков?"
   ]
  },
  {
   "cell_type": "code",
   "execution_count": 38,
   "metadata": {
    "pycharm": {
     "name": "#%%\n"
    }
   },
   "outputs": [
    {
     "data": {
      "text/html": [
       "<div>\n",
       "<style scoped>\n",
       "    .dataframe tbody tr th:only-of-type {\n",
       "        vertical-align: middle;\n",
       "    }\n",
       "\n",
       "    .dataframe tbody tr th {\n",
       "        vertical-align: top;\n",
       "    }\n",
       "\n",
       "    .dataframe thead th {\n",
       "        text-align: right;\n",
       "    }\n",
       "</style>\n",
       "<table border=\"1\" class=\"dataframe\">\n",
       "  <thead>\n",
       "    <tr style=\"text-align: right;\">\n",
       "      <th></th>\n",
       "      <th>away_team_runs</th>\n",
       "      <th>home_team_runs</th>\n",
       "    </tr>\n",
       "  </thead>\n",
       "  <tbody>\n",
       "    <tr>\n",
       "      <th>0</th>\n",
       "      <td>3</td>\n",
       "      <td>4</td>\n",
       "    </tr>\n",
       "    <tr>\n",
       "      <th>1</th>\n",
       "      <td>2</td>\n",
       "      <td>3</td>\n",
       "    </tr>\n",
       "    <tr>\n",
       "      <th>2</th>\n",
       "      <td>2</td>\n",
       "      <td>4</td>\n",
       "    </tr>\n",
       "    <tr>\n",
       "      <th>3</th>\n",
       "      <td>3</td>\n",
       "      <td>1</td>\n",
       "    </tr>\n",
       "    <tr>\n",
       "      <th>4</th>\n",
       "      <td>4</td>\n",
       "      <td>3</td>\n",
       "    </tr>\n",
       "  </tbody>\n",
       "</table>\n",
       "</div>"
      ],
      "text/plain": [
       "   away_team_runs  home_team_runs\n",
       "0               3               4\n",
       "1               2               3\n",
       "2               2               4\n",
       "3               3               1\n",
       "4               4               3"
      ]
     },
     "execution_count": 38,
     "metadata": {},
     "output_type": "execute_result"
    }
   ],
   "source": [
    "data[['away_team_runs', 'home_team_runs']].head(5)"
   ]
  },
  {
   "cell_type": "code",
   "execution_count": 39,
   "metadata": {},
   "outputs": [
    {
     "data": {
      "text/plain": [
       "count    2463.000000\n",
       "mean        4.413723\n",
       "std         3.104556\n",
       "min         0.000000\n",
       "25%         2.000000\n",
       "50%         4.000000\n",
       "75%         6.000000\n",
       "max        21.000000\n",
       "Name: away_team_runs, dtype: float64"
      ]
     },
     "execution_count": 39,
     "metadata": {},
     "output_type": "execute_result"
    }
   ],
   "source": [
    "data['away_team_runs'].describe()"
   ]
  },
  {
   "cell_type": "code",
   "execution_count": 40,
   "metadata": {},
   "outputs": [
    {
     "data": {
      "text/plain": [
       "count    2463.000000\n",
       "mean        4.519691\n",
       "std         3.111572\n",
       "min         0.000000\n",
       "25%         2.000000\n",
       "50%         4.000000\n",
       "75%         6.000000\n",
       "max        17.000000\n",
       "Name: home_team_runs, dtype: float64"
      ]
     },
     "execution_count": 40,
     "metadata": {},
     "output_type": "execute_result"
    }
   ],
   "source": [
    "data['home_team_runs'].describe()"
   ]
  },
  {
   "cell_type": "code",
   "execution_count": 102,
   "metadata": {},
   "outputs": [
    {
     "data": {
      "text/html": [
       "<div>\n",
       "<style scoped>\n",
       "    .dataframe tbody tr th:only-of-type {\n",
       "        vertical-align: middle;\n",
       "    }\n",
       "\n",
       "    .dataframe tbody tr th {\n",
       "        vertical-align: top;\n",
       "    }\n",
       "\n",
       "    .dataframe thead th {\n",
       "        text-align: right;\n",
       "    }\n",
       "</style>\n",
       "<table border=\"1\" class=\"dataframe\">\n",
       "  <thead>\n",
       "    <tr style=\"text-align: right;\">\n",
       "      <th></th>\n",
       "      <th>Unnamed: 0</th>\n",
       "      <th>attendance</th>\n",
       "      <th>away_team</th>\n",
       "      <th>away_team_errors</th>\n",
       "      <th>away_team_hits</th>\n",
       "      <th>away_team_runs</th>\n",
       "      <th>date</th>\n",
       "      <th>field_type</th>\n",
       "      <th>game_type</th>\n",
       "      <th>home_team</th>\n",
       "      <th>...</th>\n",
       "      <th>temperature</th>\n",
       "      <th>wind_speed</th>\n",
       "      <th>wind_direction</th>\n",
       "      <th>sky</th>\n",
       "      <th>total_runs</th>\n",
       "      <th>game_hours_dec</th>\n",
       "      <th>season</th>\n",
       "      <th>home_team_win</th>\n",
       "      <th>home_team_loss</th>\n",
       "      <th>home_team_outcome</th>\n",
       "    </tr>\n",
       "  </thead>\n",
       "  <tbody>\n",
       "    <tr>\n",
       "      <th>1441</th>\n",
       "      <td>1441</td>\n",
       "      <td>36552.0</td>\n",
       "      <td>Los Angeles Angels of Anaheim</td>\n",
       "      <td>1</td>\n",
       "      <td>22</td>\n",
       "      <td>21</td>\n",
       "      <td>2016-07-02</td>\n",
       "      <td>on grass</td>\n",
       "      <td>Night Game</td>\n",
       "      <td>Boston Red Sox</td>\n",
       "      <td>...</td>\n",
       "      <td>80.0</td>\n",
       "      <td>12.0</td>\n",
       "      <td>out to Rightfield</td>\n",
       "      <td>Cloudy</td>\n",
       "      <td>23</td>\n",
       "      <td>3.633333</td>\n",
       "      <td>regular season</td>\n",
       "      <td>0</td>\n",
       "      <td>1</td>\n",
       "      <td>Loss</td>\n",
       "    </tr>\n",
       "  </tbody>\n",
       "</table>\n",
       "<p>1 rows × 26 columns</p>\n",
       "</div>"
      ],
      "text/plain": [
       "      Unnamed: 0  attendance                      away_team  away_team_errors  \\\n",
       "1441        1441     36552.0  Los Angeles Angels of Anaheim                 1   \n",
       "\n",
       "      away_team_hits  away_team_runs        date field_type   game_type  \\\n",
       "1441              22              21  2016-07-02   on grass  Night Game   \n",
       "\n",
       "           home_team  ...  temperature  wind_speed      wind_direction  \\\n",
       "1441  Boston Red Sox  ...         80.0        12.0   out to Rightfield   \n",
       "\n",
       "         sky total_runs game_hours_dec          season  home_team_win  \\\n",
       "1441  Cloudy         23       3.633333  regular season              0   \n",
       "\n",
       "     home_team_loss home_team_outcome  \n",
       "1441              1              Loss  \n",
       "\n",
       "[1 rows x 26 columns]"
      ]
     },
     "execution_count": 102,
     "metadata": {},
     "output_type": "execute_result"
    }
   ],
   "source": [
    "max_run =data['away_team_runs'].max()\n",
    "max_run_away = data.query('@max_run==away_team_runs')\n",
    "max_run_away# игра с наибольшим количеством очков гостевой команды"
   ]
  },
  {
   "cell_type": "code",
   "execution_count": 42,
   "metadata": {},
   "outputs": [
    {
     "data": {
      "text/html": [
       "<div>\n",
       "<style scoped>\n",
       "    .dataframe tbody tr th:only-of-type {\n",
       "        vertical-align: middle;\n",
       "    }\n",
       "\n",
       "    .dataframe tbody tr th {\n",
       "        vertical-align: top;\n",
       "    }\n",
       "\n",
       "    .dataframe thead th {\n",
       "        text-align: right;\n",
       "    }\n",
       "</style>\n",
       "<table border=\"1\" class=\"dataframe\">\n",
       "  <thead>\n",
       "    <tr style=\"text-align: right;\">\n",
       "      <th></th>\n",
       "      <th>Unnamed: 0</th>\n",
       "      <th>attendance</th>\n",
       "      <th>away_team</th>\n",
       "      <th>away_team_errors</th>\n",
       "      <th>away_team_hits</th>\n",
       "      <th>away_team_runs</th>\n",
       "      <th>date</th>\n",
       "      <th>field_type</th>\n",
       "      <th>game_type</th>\n",
       "      <th>home_team</th>\n",
       "      <th>...</th>\n",
       "      <th>temperature</th>\n",
       "      <th>wind_speed</th>\n",
       "      <th>wind_direction</th>\n",
       "      <th>sky</th>\n",
       "      <th>total_runs</th>\n",
       "      <th>game_hours_dec</th>\n",
       "      <th>season</th>\n",
       "      <th>home_team_win</th>\n",
       "      <th>home_team_loss</th>\n",
       "      <th>home_team_outcome</th>\n",
       "    </tr>\n",
       "  </thead>\n",
       "  <tbody>\n",
       "    <tr>\n",
       "      <th>472</th>\n",
       "      <td>472</td>\n",
       "      <td>35093.0</td>\n",
       "      <td>Philadelphia Phillies</td>\n",
       "      <td>0</td>\n",
       "      <td>3</td>\n",
       "      <td>0</td>\n",
       "      <td>2016-09-25</td>\n",
       "      <td>on grass</td>\n",
       "      <td>Day Game</td>\n",
       "      <td>New York Mets</td>\n",
       "      <td>...</td>\n",
       "      <td>66.0</td>\n",
       "      <td>14.0</td>\n",
       "      <td>in from Leftfield</td>\n",
       "      <td>Sunny</td>\n",
       "      <td>17</td>\n",
       "      <td>3.533333</td>\n",
       "      <td>regular season</td>\n",
       "      <td>1</td>\n",
       "      <td>0</td>\n",
       "      <td>Win</td>\n",
       "    </tr>\n",
       "    <tr>\n",
       "      <th>1416</th>\n",
       "      <td>1416</td>\n",
       "      <td>45962.0</td>\n",
       "      <td>Cleveland Indians</td>\n",
       "      <td>2</td>\n",
       "      <td>5</td>\n",
       "      <td>1</td>\n",
       "      <td>2016-07-03</td>\n",
       "      <td>on turf</td>\n",
       "      <td>Day Game</td>\n",
       "      <td>Toronto Blue Jays</td>\n",
       "      <td>...</td>\n",
       "      <td>68.0</td>\n",
       "      <td>8.0</td>\n",
       "      <td>out to Rightfield</td>\n",
       "      <td>Sunny</td>\n",
       "      <td>18</td>\n",
       "      <td>3.166667</td>\n",
       "      <td>regular season</td>\n",
       "      <td>1</td>\n",
       "      <td>0</td>\n",
       "      <td>Win</td>\n",
       "    </tr>\n",
       "    <tr>\n",
       "      <th>1439</th>\n",
       "      <td>1439</td>\n",
       "      <td>21466.0</td>\n",
       "      <td>Texas Rangers</td>\n",
       "      <td>1</td>\n",
       "      <td>10</td>\n",
       "      <td>5</td>\n",
       "      <td>2016-07-02</td>\n",
       "      <td>on grass</td>\n",
       "      <td>Day Game</td>\n",
       "      <td>Minnesota Twins</td>\n",
       "      <td>...</td>\n",
       "      <td>76.0</td>\n",
       "      <td>6.0</td>\n",
       "      <td>in unknown direction</td>\n",
       "      <td>Cloudy</td>\n",
       "      <td>22</td>\n",
       "      <td>3.100000</td>\n",
       "      <td>regular season</td>\n",
       "      <td>1</td>\n",
       "      <td>0</td>\n",
       "      <td>Win</td>\n",
       "    </tr>\n",
       "    <tr>\n",
       "      <th>1810</th>\n",
       "      <td>1810</td>\n",
       "      <td>20448.0</td>\n",
       "      <td>Cincinnati Reds</td>\n",
       "      <td>0</td>\n",
       "      <td>7</td>\n",
       "      <td>4</td>\n",
       "      <td>2016-05-31</td>\n",
       "      <td>on grass</td>\n",
       "      <td>Night Game</td>\n",
       "      <td>Colorado Rockies</td>\n",
       "      <td>...</td>\n",
       "      <td>64.0</td>\n",
       "      <td>7.0</td>\n",
       "      <td>in from Centerfield</td>\n",
       "      <td>Unknown</td>\n",
       "      <td>21</td>\n",
       "      <td>3.116667</td>\n",
       "      <td>regular season</td>\n",
       "      <td>1</td>\n",
       "      <td>0</td>\n",
       "      <td>Win</td>\n",
       "    </tr>\n",
       "  </tbody>\n",
       "</table>\n",
       "<p>4 rows × 26 columns</p>\n",
       "</div>"
      ],
      "text/plain": [
       "      Unnamed: 0  attendance              away_team  away_team_errors  \\\n",
       "472          472     35093.0  Philadelphia Phillies                 0   \n",
       "1416        1416     45962.0      Cleveland Indians                 2   \n",
       "1439        1439     21466.0          Texas Rangers                 1   \n",
       "1810        1810     20448.0        Cincinnati Reds                 0   \n",
       "\n",
       "      away_team_hits  away_team_runs        date field_type   game_type  \\\n",
       "472                3               0  2016-09-25   on grass    Day Game   \n",
       "1416               5               1  2016-07-03    on turf    Day Game   \n",
       "1439              10               5  2016-07-02   on grass    Day Game   \n",
       "1810               7               4  2016-05-31   on grass  Night Game   \n",
       "\n",
       "              home_team  ...  temperature  wind_speed         wind_direction  \\\n",
       "472       New York Mets  ...         66.0        14.0      in from Leftfield   \n",
       "1416  Toronto Blue Jays  ...         68.0         8.0      out to Rightfield   \n",
       "1439    Minnesota Twins  ...         76.0         6.0   in unknown direction   \n",
       "1810   Colorado Rockies  ...         64.0         7.0    in from Centerfield   \n",
       "\n",
       "          sky total_runs game_hours_dec          season  home_team_win  \\\n",
       "472     Sunny         17       3.533333  regular season              1   \n",
       "1416    Sunny         18       3.166667  regular season              1   \n",
       "1439   Cloudy         22       3.100000  regular season              1   \n",
       "1810  Unknown         21       3.116667  regular season              1   \n",
       "\n",
       "     home_team_loss home_team_outcome  \n",
       "472               0               Win  \n",
       "1416              0               Win  \n",
       "1439              0               Win  \n",
       "1810              0               Win  \n",
       "\n",
       "[4 rows x 26 columns]"
      ]
     },
     "execution_count": 42,
     "metadata": {},
     "output_type": "execute_result"
    }
   ],
   "source": [
    "max_run_home =data['home_team_runs'].max()\n",
    "max_run = data.query('@max_run_home==home_team_runs')\n",
    "max_run#  игры с наибольшим количеством очков домашней команды"
   ]
  },
  {
   "cell_type": "markdown",
   "metadata": {
    "pycharm": {
     "name": "#%% md\n"
    }
   },
   "source": [
    "# 11. Какая игра содержала максимальное количество ошибок домашней команды?"
   ]
  },
  {
   "cell_type": "code",
   "execution_count": 44,
   "metadata": {
    "pycharm": {
     "name": "#%%\n"
    }
   },
   "outputs": [
    {
     "data": {
      "text/plain": [
       "count    2463.000000\n",
       "mean        0.585871\n",
       "std         0.805542\n",
       "min         0.000000\n",
       "25%         0.000000\n",
       "50%         0.000000\n",
       "75%         1.000000\n",
       "max         5.000000\n",
       "Name: home_team_errors, dtype: float64"
      ]
     },
     "execution_count": 44,
     "metadata": {},
     "output_type": "execute_result"
    }
   ],
   "source": [
    "data['home_team_errors'].describe()"
   ]
  },
  {
   "cell_type": "code",
   "execution_count": 45,
   "metadata": {},
   "outputs": [
    {
     "data": {
      "text/html": [
       "<div>\n",
       "<style scoped>\n",
       "    .dataframe tbody tr th:only-of-type {\n",
       "        vertical-align: middle;\n",
       "    }\n",
       "\n",
       "    .dataframe tbody tr th {\n",
       "        vertical-align: top;\n",
       "    }\n",
       "\n",
       "    .dataframe thead th {\n",
       "        text-align: right;\n",
       "    }\n",
       "</style>\n",
       "<table border=\"1\" class=\"dataframe\">\n",
       "  <thead>\n",
       "    <tr style=\"text-align: right;\">\n",
       "      <th></th>\n",
       "      <th>Unnamed: 0</th>\n",
       "      <th>attendance</th>\n",
       "      <th>away_team</th>\n",
       "      <th>away_team_errors</th>\n",
       "      <th>away_team_hits</th>\n",
       "      <th>away_team_runs</th>\n",
       "      <th>date</th>\n",
       "      <th>field_type</th>\n",
       "      <th>game_type</th>\n",
       "      <th>home_team</th>\n",
       "      <th>...</th>\n",
       "      <th>temperature</th>\n",
       "      <th>wind_speed</th>\n",
       "      <th>wind_direction</th>\n",
       "      <th>sky</th>\n",
       "      <th>total_runs</th>\n",
       "      <th>game_hours_dec</th>\n",
       "      <th>season</th>\n",
       "      <th>home_team_win</th>\n",
       "      <th>home_team_loss</th>\n",
       "      <th>home_team_outcome</th>\n",
       "    </tr>\n",
       "  </thead>\n",
       "  <tbody>\n",
       "    <tr>\n",
       "      <th>1178</th>\n",
       "      <td>1178</td>\n",
       "      <td>22581.0</td>\n",
       "      <td>Arizona Diamondbacks</td>\n",
       "      <td>1</td>\n",
       "      <td>11</td>\n",
       "      <td>8</td>\n",
       "      <td>2016-07-27</td>\n",
       "      <td>on grass</td>\n",
       "      <td>Night Game</td>\n",
       "      <td>Milwaukee Brewers</td>\n",
       "      <td>...</td>\n",
       "      <td>77.0</td>\n",
       "      <td>9.0</td>\n",
       "      <td>in from Leftfield</td>\n",
       "      <td>Cloudy</td>\n",
       "      <td>9</td>\n",
       "      <td>2.933333</td>\n",
       "      <td>regular season</td>\n",
       "      <td>0</td>\n",
       "      <td>1</td>\n",
       "      <td>Loss</td>\n",
       "    </tr>\n",
       "  </tbody>\n",
       "</table>\n",
       "<p>1 rows × 26 columns</p>\n",
       "</div>"
      ],
      "text/plain": [
       "      Unnamed: 0  attendance             away_team  away_team_errors  \\\n",
       "1178        1178     22581.0  Arizona Diamondbacks                 1   \n",
       "\n",
       "      away_team_hits  away_team_runs        date field_type   game_type  \\\n",
       "1178              11               8  2016-07-27   on grass  Night Game   \n",
       "\n",
       "              home_team  ...  temperature  wind_speed      wind_direction  \\\n",
       "1178  Milwaukee Brewers  ...         77.0         9.0   in from Leftfield   \n",
       "\n",
       "         sky total_runs game_hours_dec          season  home_team_win  \\\n",
       "1178  Cloudy          9       2.933333  regular season              0   \n",
       "\n",
       "     home_team_loss home_team_outcome  \n",
       "1178              1              Loss  \n",
       "\n",
       "[1 rows x 26 columns]"
      ]
     },
     "execution_count": 45,
     "metadata": {},
     "output_type": "execute_result"
    }
   ],
   "source": [
    "max_err = data['home_team_errors'].max() #макс значение количества ошибок домашней команды\n",
    "max_home_err = data.query('@max_err == home_team_errors') #отбор игры по макс количеству ошибок домашней команды\n",
    "max_home_err # игра с макс количеством ошибок домашней команды"
   ]
  },
  {
   "cell_type": "markdown",
   "metadata": {
    "pycharm": {
     "name": "#%% md\n"
    }
   },
   "source": [
    "# 12. В какой игре было максимальное количество ранов?"
   ]
  },
  {
   "cell_type": "code",
   "execution_count": 47,
   "metadata": {},
   "outputs": [],
   "source": [
    "#В какой игре было максимальное количество хитов?"
   ]
  },
  {
   "cell_type": "code",
   "execution_count": 48,
   "metadata": {
    "pycharm": {
     "name": "#%%\n"
    }
   },
   "outputs": [
    {
     "data": {
      "text/plain": [
       "count    2463.000000\n",
       "mean        8.611855\n",
       "std         3.436965\n",
       "min         0.000000\n",
       "25%         6.000000\n",
       "50%         8.000000\n",
       "75%        11.000000\n",
       "max        22.000000\n",
       "Name: home_team_hits, dtype: float64"
      ]
     },
     "execution_count": 48,
     "metadata": {},
     "output_type": "execute_result"
    }
   ],
   "source": [
    "data['home_team_hits'].describe()"
   ]
  },
  {
   "cell_type": "code",
   "execution_count": 49,
   "metadata": {},
   "outputs": [
    {
     "data": {
      "text/plain": [
       "count    2463.000000\n",
       "mean        8.764515\n",
       "std         3.511581\n",
       "min         1.000000\n",
       "25%         6.000000\n",
       "50%         8.000000\n",
       "75%        11.000000\n",
       "max        22.000000\n",
       "Name: away_team_hits, dtype: float64"
      ]
     },
     "execution_count": 49,
     "metadata": {},
     "output_type": "execute_result"
    }
   ],
   "source": [
    "data['away_team_hits'].describe()"
   ]
  },
  {
   "cell_type": "code",
   "execution_count": 50,
   "metadata": {},
   "outputs": [
    {
     "data": {
      "text/plain": [
       "22"
      ]
     },
     "execution_count": 50,
     "metadata": {},
     "output_type": "execute_result"
    }
   ],
   "source": [
    "max_away_hits = data['away_team_hits'].max()\n",
    "max_away_hits # игра с наибольшим количеством хитов гостевой команды"
   ]
  },
  {
   "cell_type": "code",
   "execution_count": 51,
   "metadata": {},
   "outputs": [
    {
     "data": {
      "text/plain": [
       "22"
      ]
     },
     "execution_count": 51,
     "metadata": {},
     "output_type": "execute_result"
    }
   ],
   "source": [
    "max_home_hits = data['home_team_hits'].max()\n",
    "max_home_hits# игра с наибольшим количеством хитов домашней команды"
   ]
  },
  {
   "cell_type": "code",
   "execution_count": 52,
   "metadata": {},
   "outputs": [
    {
     "data": {
      "text/html": [
       "<div>\n",
       "<style scoped>\n",
       "    .dataframe tbody tr th:only-of-type {\n",
       "        vertical-align: middle;\n",
       "    }\n",
       "\n",
       "    .dataframe tbody tr th {\n",
       "        vertical-align: top;\n",
       "    }\n",
       "\n",
       "    .dataframe thead th {\n",
       "        text-align: right;\n",
       "    }\n",
       "</style>\n",
       "<table border=\"1\" class=\"dataframe\">\n",
       "  <thead>\n",
       "    <tr style=\"text-align: right;\">\n",
       "      <th></th>\n",
       "      <th>Unnamed: 0</th>\n",
       "      <th>attendance</th>\n",
       "      <th>away_team</th>\n",
       "      <th>away_team_errors</th>\n",
       "      <th>away_team_hits</th>\n",
       "      <th>away_team_runs</th>\n",
       "      <th>date</th>\n",
       "      <th>field_type</th>\n",
       "      <th>game_type</th>\n",
       "      <th>home_team</th>\n",
       "      <th>...</th>\n",
       "      <th>temperature</th>\n",
       "      <th>wind_speed</th>\n",
       "      <th>wind_direction</th>\n",
       "      <th>sky</th>\n",
       "      <th>total_runs</th>\n",
       "      <th>game_hours_dec</th>\n",
       "      <th>season</th>\n",
       "      <th>home_team_win</th>\n",
       "      <th>home_team_loss</th>\n",
       "      <th>home_team_outcome</th>\n",
       "    </tr>\n",
       "  </thead>\n",
       "  <tbody>\n",
       "    <tr>\n",
       "      <th>461</th>\n",
       "      <td>461</td>\n",
       "      <td>34942.0</td>\n",
       "      <td>Cincinnati Reds</td>\n",
       "      <td>0</td>\n",
       "      <td>22</td>\n",
       "      <td>15</td>\n",
       "      <td>2016-09-26</td>\n",
       "      <td>on grass</td>\n",
       "      <td>Night Game</td>\n",
       "      <td>St. Louis Cardinals</td>\n",
       "      <td>...</td>\n",
       "      <td>67.0</td>\n",
       "      <td>6.0</td>\n",
       "      <td>out to Rightfield</td>\n",
       "      <td>Sunny</td>\n",
       "      <td>17</td>\n",
       "      <td>2.800000</td>\n",
       "      <td>regular season</td>\n",
       "      <td>0</td>\n",
       "      <td>1</td>\n",
       "      <td>Loss</td>\n",
       "    </tr>\n",
       "    <tr>\n",
       "      <th>1196</th>\n",
       "      <td>1196</td>\n",
       "      <td>28026.0</td>\n",
       "      <td>Los Angeles Angels of Anaheim</td>\n",
       "      <td>0</td>\n",
       "      <td>22</td>\n",
       "      <td>13</td>\n",
       "      <td>2016-07-26</td>\n",
       "      <td>on grass</td>\n",
       "      <td>Night Game</td>\n",
       "      <td>Kansas City Royals</td>\n",
       "      <td>...</td>\n",
       "      <td>85.0</td>\n",
       "      <td>7.0</td>\n",
       "      <td>in from Rightfield</td>\n",
       "      <td>Sunny</td>\n",
       "      <td>13</td>\n",
       "      <td>3.066667</td>\n",
       "      <td>regular season</td>\n",
       "      <td>0</td>\n",
       "      <td>1</td>\n",
       "      <td>Loss</td>\n",
       "    </tr>\n",
       "    <tr>\n",
       "      <th>1423</th>\n",
       "      <td>1423</td>\n",
       "      <td>36137.0</td>\n",
       "      <td>Chicago Cubs</td>\n",
       "      <td>0</td>\n",
       "      <td>11</td>\n",
       "      <td>3</td>\n",
       "      <td>2016-07-03</td>\n",
       "      <td>on grass</td>\n",
       "      <td>Day Game</td>\n",
       "      <td>New York Mets</td>\n",
       "      <td>...</td>\n",
       "      <td>80.0</td>\n",
       "      <td>3.0</td>\n",
       "      <td>out to Leftfield</td>\n",
       "      <td>Cloudy</td>\n",
       "      <td>17</td>\n",
       "      <td>3.283333</td>\n",
       "      <td>regular season</td>\n",
       "      <td>1</td>\n",
       "      <td>0</td>\n",
       "      <td>Win</td>\n",
       "    </tr>\n",
       "    <tr>\n",
       "      <th>1441</th>\n",
       "      <td>1441</td>\n",
       "      <td>36552.0</td>\n",
       "      <td>Los Angeles Angels of Anaheim</td>\n",
       "      <td>1</td>\n",
       "      <td>22</td>\n",
       "      <td>21</td>\n",
       "      <td>2016-07-02</td>\n",
       "      <td>on grass</td>\n",
       "      <td>Night Game</td>\n",
       "      <td>Boston Red Sox</td>\n",
       "      <td>...</td>\n",
       "      <td>80.0</td>\n",
       "      <td>12.0</td>\n",
       "      <td>out to Rightfield</td>\n",
       "      <td>Cloudy</td>\n",
       "      <td>23</td>\n",
       "      <td>3.633333</td>\n",
       "      <td>regular season</td>\n",
       "      <td>0</td>\n",
       "      <td>1</td>\n",
       "      <td>Loss</td>\n",
       "    </tr>\n",
       "    <tr>\n",
       "      <th>1558</th>\n",
       "      <td>1558</td>\n",
       "      <td>27729.0</td>\n",
       "      <td>San Francisco Giants</td>\n",
       "      <td>1</td>\n",
       "      <td>22</td>\n",
       "      <td>15</td>\n",
       "      <td>2016-06-21</td>\n",
       "      <td>on grass</td>\n",
       "      <td>Night Game</td>\n",
       "      <td>Pittsburgh Pirates</td>\n",
       "      <td>...</td>\n",
       "      <td>82.0</td>\n",
       "      <td>12.0</td>\n",
       "      <td>out to Centerfield</td>\n",
       "      <td>Cloudy</td>\n",
       "      <td>19</td>\n",
       "      <td>3.816667</td>\n",
       "      <td>regular season</td>\n",
       "      <td>0</td>\n",
       "      <td>1</td>\n",
       "      <td>Loss</td>\n",
       "    </tr>\n",
       "  </tbody>\n",
       "</table>\n",
       "<p>5 rows × 26 columns</p>\n",
       "</div>"
      ],
      "text/plain": [
       "      Unnamed: 0  attendance                      away_team  away_team_errors  \\\n",
       "461          461     34942.0                Cincinnati Reds                 0   \n",
       "1196        1196     28026.0  Los Angeles Angels of Anaheim                 0   \n",
       "1423        1423     36137.0                   Chicago Cubs                 0   \n",
       "1441        1441     36552.0  Los Angeles Angels of Anaheim                 1   \n",
       "1558        1558     27729.0           San Francisco Giants                 1   \n",
       "\n",
       "      away_team_hits  away_team_runs        date field_type   game_type  \\\n",
       "461               22              15  2016-09-26   on grass  Night Game   \n",
       "1196              22              13  2016-07-26   on grass  Night Game   \n",
       "1423              11               3  2016-07-03   on grass    Day Game   \n",
       "1441              22              21  2016-07-02   on grass  Night Game   \n",
       "1558              22              15  2016-06-21   on grass  Night Game   \n",
       "\n",
       "                home_team  ...  temperature  wind_speed       wind_direction  \\\n",
       "461   St. Louis Cardinals  ...         67.0         6.0    out to Rightfield   \n",
       "1196   Kansas City Royals  ...         85.0         7.0   in from Rightfield   \n",
       "1423        New York Mets  ...         80.0         3.0     out to Leftfield   \n",
       "1441       Boston Red Sox  ...         80.0        12.0    out to Rightfield   \n",
       "1558   Pittsburgh Pirates  ...         82.0        12.0   out to Centerfield   \n",
       "\n",
       "         sky total_runs game_hours_dec          season  home_team_win  \\\n",
       "461    Sunny         17       2.800000  regular season              0   \n",
       "1196   Sunny         13       3.066667  regular season              0   \n",
       "1423  Cloudy         17       3.283333  regular season              1   \n",
       "1441  Cloudy         23       3.633333  regular season              0   \n",
       "1558  Cloudy         19       3.816667  regular season              0   \n",
       "\n",
       "     home_team_loss home_team_outcome  \n",
       "461               1              Loss  \n",
       "1196              1              Loss  \n",
       "1423              0               Win  \n",
       "1441              1              Loss  \n",
       "1558              1              Loss  \n",
       "\n",
       "[5 rows x 26 columns]"
      ]
     },
     "execution_count": 52,
     "metadata": {},
     "output_type": "execute_result"
    }
   ],
   "source": [
    "max_hits = data.query('(away_team_hits ==@max_away_hits) |  (home_team_hits==@max_home_hits)')\n",
    "max_hits #DF сформированный либо с макимальным количеством хитов гостевой или домашней команды"
   ]
  },
  {
   "cell_type": "code",
   "execution_count": 53,
   "metadata": {},
   "outputs": [],
   "source": [
    "#максимально количество ранов для гостевой и домашней команды = 22\n",
    "#461, 1196, 1441, 1558 -игры с максимальным количеством хитов гостевой команды   1423 -игра с максимальным количеством хитов домашней команды"
   ]
  },
  {
   "cell_type": "markdown",
   "metadata": {
    "pycharm": {
     "name": "#%% md\n"
    }
   },
   "source": [
    "# 13. Выведите количество игр которая сыграла каждая команда в данном сезоне?"
   ]
  },
  {
   "cell_type": "code",
   "execution_count": 55,
   "metadata": {
    "pycharm": {
     "name": "#%%\n"
    }
   },
   "outputs": [
    {
     "data": {
      "text/html": [
       "<div>\n",
       "<style scoped>\n",
       "    .dataframe tbody tr th:only-of-type {\n",
       "        vertical-align: middle;\n",
       "    }\n",
       "\n",
       "    .dataframe tbody tr th {\n",
       "        vertical-align: top;\n",
       "    }\n",
       "\n",
       "    .dataframe thead th {\n",
       "        text-align: right;\n",
       "    }\n",
       "</style>\n",
       "<table border=\"1\" class=\"dataframe\">\n",
       "  <thead>\n",
       "    <tr style=\"text-align: right;\">\n",
       "      <th></th>\n",
       "      <th>away_team</th>\n",
       "      <th>home_team</th>\n",
       "    </tr>\n",
       "  </thead>\n",
       "  <tbody>\n",
       "    <tr>\n",
       "      <th>0</th>\n",
       "      <td>New York Mets</td>\n",
       "      <td>Kansas City Royals</td>\n",
       "    </tr>\n",
       "    <tr>\n",
       "      <th>1</th>\n",
       "      <td>Philadelphia Phillies</td>\n",
       "      <td>Cincinnati Reds</td>\n",
       "    </tr>\n",
       "    <tr>\n",
       "      <th>2</th>\n",
       "      <td>Minnesota Twins</td>\n",
       "      <td>Baltimore Orioles</td>\n",
       "    </tr>\n",
       "    <tr>\n",
       "      <th>3</th>\n",
       "      <td>Washington Nationals</td>\n",
       "      <td>Atlanta Braves</td>\n",
       "    </tr>\n",
       "    <tr>\n",
       "      <th>4</th>\n",
       "      <td>Colorado Rockies</td>\n",
       "      <td>Arizona Diamondbacks</td>\n",
       "    </tr>\n",
       "    <tr>\n",
       "      <th>...</th>\n",
       "      <td>...</td>\n",
       "      <td>...</td>\n",
       "    </tr>\n",
       "    <tr>\n",
       "      <th>2458</th>\n",
       "      <td>Toronto Blue Jays</td>\n",
       "      <td>Tampa Bay Rays</td>\n",
       "    </tr>\n",
       "    <tr>\n",
       "      <th>2459</th>\n",
       "      <td>St. Louis Cardinals</td>\n",
       "      <td>Pittsburgh Pirates</td>\n",
       "    </tr>\n",
       "    <tr>\n",
       "      <th>2460</th>\n",
       "      <td>San Francisco Giants</td>\n",
       "      <td>Milwaukee Brewers</td>\n",
       "    </tr>\n",
       "    <tr>\n",
       "      <th>2461</th>\n",
       "      <td>Detroit Tigers</td>\n",
       "      <td>Miami Marlins</td>\n",
       "    </tr>\n",
       "    <tr>\n",
       "      <th>2462</th>\n",
       "      <td>Boston Red Sox</td>\n",
       "      <td>Cleveland Indians</td>\n",
       "    </tr>\n",
       "  </tbody>\n",
       "</table>\n",
       "<p>2428 rows × 2 columns</p>\n",
       "</div>"
      ],
      "text/plain": [
       "                  away_team             home_team\n",
       "0             New York Mets    Kansas City Royals\n",
       "1     Philadelphia Phillies       Cincinnati Reds\n",
       "2           Minnesota Twins     Baltimore Orioles\n",
       "3      Washington Nationals        Atlanta Braves\n",
       "4          Colorado Rockies  Arizona Diamondbacks\n",
       "...                     ...                   ...\n",
       "2458      Toronto Blue Jays        Tampa Bay Rays\n",
       "2459    St. Louis Cardinals    Pittsburgh Pirates\n",
       "2460   San Francisco Giants     Milwaukee Brewers\n",
       "2461         Detroit Tigers         Miami Marlins\n",
       "2462         Boston Red Sox     Cleveland Indians\n",
       "\n",
       "[2428 rows x 2 columns]"
      ]
     },
     "execution_count": 55,
     "metadata": {},
     "output_type": "execute_result"
    }
   ],
   "source": [
    "regular_games[['away_team', 'home_team']]"
   ]
  },
  {
   "cell_type": "code",
   "execution_count": 56,
   "metadata": {},
   "outputs": [
    {
     "data": {
      "text/plain": [
       "New York Mets                    162\n",
       "San Diego Padres                 162\n",
       "Boston Red Sox                   162\n",
       "Oakland Athletics                162\n",
       "Baltimore Orioles                162\n",
       "Milwaukee Brewers                162\n",
       "Arizona Diamondbacks             162\n",
       "Chicago Cubs                     162\n",
       "New York Yankees                 162\n",
       "Cincinnati Reds                  162\n",
       "Pittsburgh Pirates               162\n",
       "Kansas City Royals               162\n",
       "Philadelphia Phillies            162\n",
       "Los Angeles Angels of Anaheim    162\n",
       "Texas Rangers                    162\n",
       "San Francisco Giants             162\n",
       "Houston Astros                   162\n",
       "Chicago White Sox                162\n",
       "St. Louis Cardinals              162\n",
       "Los Angeles Dodgers              162\n",
       "Toronto Blue Jays                162\n",
       "Seattle Mariners                 162\n",
       "Colorado Rockies                 162\n",
       "Washington Nationals             162\n",
       "Minnesota Twins                  162\n",
       "Tampa Bay Rays                   162\n",
       "Detroit Tigers                   161\n",
       "Miami Marlins                    161\n",
       "Atlanta Braves                   161\n",
       "Cleveland Indians                161\n",
       "Name: count, dtype: int64"
      ]
     },
     "execution_count": 56,
     "metadata": {},
     "output_type": "execute_result"
    }
   ],
   "source": [
    "away_team = regular_games['away_team']\n",
    "home_team = regular_games['home_team']\n",
    "teams = pd.concat([away_team, home_team]) # объединение столбцов домашних команд с гостевыми\n",
    "count_games = teams.value_counts() #количество вхождений каждой команды \n",
    "count_games #количество игр для каждой команды\n",
    "\n",
    "\n"
   ]
  },
  {
   "cell_type": "markdown",
   "metadata": {
    "pycharm": {
     "name": "#%% md\n"
    }
   },
   "source": [
    "# 14. Какая команда выиграла наибольшое количество матчей в сезоне? (Будьте внимательны с типом матча в сезоне - season)."
   ]
  },
  {
   "cell_type": "code",
   "execution_count": 58,
   "metadata": {},
   "outputs": [
    {
     "data": {
      "text/plain": [
       "0       Kansas City Royals\n",
       "1          Cincinnati Reds\n",
       "2        Baltimore Orioles\n",
       "6           Tampa Bay Rays\n",
       "8       Pittsburgh Pirates\n",
       "               ...        \n",
       "2453       Cincinnati Reds\n",
       "2454     Baltimore Orioles\n",
       "2459    Pittsburgh Pirates\n",
       "2460     Milwaukee Brewers\n",
       "2462     Cleveland Indians\n",
       "Name: home_team, Length: 1287, dtype: object"
      ]
     },
     "execution_count": 58,
     "metadata": {},
     "output_type": "execute_result"
    }
   ],
   "source": [
    "home_reg_season = regular_games[['home_team', 'home_team_outcome']].query('home_team_outcome != \"Loss\"') #для домашних матчей удалили loss-поражение\n",
    "win_home = home_reg_season['home_team']\n",
    "win_home"
   ]
  },
  {
   "cell_type": "code",
   "execution_count": 59,
   "metadata": {},
   "outputs": [
    {
     "data": {
      "text/plain": [
       "3       Washington Nationals\n",
       "4           Colorado Rockies\n",
       "5           Seattle Mariners\n",
       "7        Los Angeles Dodgers\n",
       "9          Chicago White Sox\n",
       "                ...         \n",
       "2455    Washington Nationals\n",
       "2456        Colorado Rockies\n",
       "2457            Chicago Cubs\n",
       "2458       Toronto Blue Jays\n",
       "2461          Detroit Tigers\n",
       "Name: away_team, Length: 1141, dtype: object"
      ]
     },
     "execution_count": 59,
     "metadata": {},
     "output_type": "execute_result"
    }
   ],
   "source": [
    "away_reg_season = regular_games[['away_team', 'home_team_outcome']].query('home_team_outcome == \"Loss\"').replace('Loss', 'Win')\n",
    "win_away = away_reg_season ['away_team'] #для гостевых матчей-поражение домашней команды, победа гостевой. Удалили победу гостевой. Заменили Loss на Win\n",
    "win_away"
   ]
  },
  {
   "cell_type": "code",
   "execution_count": 60,
   "metadata": {},
   "outputs": [
    {
     "data": {
      "text/plain": [
       "Chicago Cubs                     104\n",
       "Texas Rangers                     95\n",
       "Washington Nationals              95\n",
       "Cleveland Indians                 94\n",
       "Boston Red Sox                    93\n",
       "Los Angeles Dodgers               91\n",
       "Baltimore Orioles                 89\n",
       "Toronto Blue Jays                 89\n",
       "New York Mets                     87\n",
       "San Francisco Giants              87\n",
       "Seattle Mariners                  86\n",
       "Detroit Tigers                    86\n",
       "St. Louis Cardinals               86\n",
       "Houston Astros                    84\n",
       "New York Yankees                  84\n",
       "Kansas City Royals                81\n",
       "Miami Marlins                     79\n",
       "Chicago White Sox                 78\n",
       "Pittsburgh Pirates                78\n",
       "Colorado Rockies                  75\n",
       "Los Angeles Angels of Anaheim     74\n",
       "Milwaukee Brewers                 73\n",
       "Philadelphia Phillies             71\n",
       "Arizona Diamondbacks              69\n",
       "Oakland Athletics                 69\n",
       "Cincinnati Reds                   68\n",
       "Atlanta Braves                    68\n",
       "Tampa Bay Rays                    68\n",
       "San Diego Padres                  68\n",
       "Minnesota Twins                   59\n",
       "Name: count, dtype: int64"
      ]
     },
     "execution_count": 60,
     "metadata": {},
     "output_type": "execute_result"
    }
   ],
   "source": [
    "win_reg_season = pd.concat([win_home, win_away]) #объединили победы команд в один df \n",
    "winner = win_reg_season.value_counts()#количество побед каждой команды. Отсортированы по убыванию\n",
    "winner"
   ]
  },
  {
   "cell_type": "code",
   "execution_count": 61,
   "metadata": {},
   "outputs": [],
   "source": [
    "#Наибольшее количество матчей выиграла команда Chicago Cubs  104"
   ]
  },
  {
   "cell_type": "markdown",
   "metadata": {
    "pycharm": {
     "name": "#%% md\n"
    }
   },
   "source": [
    "# 15. Какая команда выиграла наибольшее количество домашних матчей в сезоне?"
   ]
  },
  {
   "cell_type": "code",
   "execution_count": 63,
   "metadata": {
    "pycharm": {
     "name": "#%%\n"
    }
   },
   "outputs": [
    {
     "data": {
      "text/html": [
       "<div>\n",
       "<style scoped>\n",
       "    .dataframe tbody tr th:only-of-type {\n",
       "        vertical-align: middle;\n",
       "    }\n",
       "\n",
       "    .dataframe tbody tr th {\n",
       "        vertical-align: top;\n",
       "    }\n",
       "\n",
       "    .dataframe thead th {\n",
       "        text-align: right;\n",
       "    }\n",
       "</style>\n",
       "<table border=\"1\" class=\"dataframe\">\n",
       "  <thead>\n",
       "    <tr style=\"text-align: right;\">\n",
       "      <th></th>\n",
       "      <th>home_team</th>\n",
       "      <th>home_team_outcome</th>\n",
       "    </tr>\n",
       "  </thead>\n",
       "  <tbody>\n",
       "    <tr>\n",
       "      <th>0</th>\n",
       "      <td>Kansas City Royals</td>\n",
       "      <td>Win</td>\n",
       "    </tr>\n",
       "    <tr>\n",
       "      <th>1</th>\n",
       "      <td>Cincinnati Reds</td>\n",
       "      <td>Win</td>\n",
       "    </tr>\n",
       "    <tr>\n",
       "      <th>2</th>\n",
       "      <td>Baltimore Orioles</td>\n",
       "      <td>Win</td>\n",
       "    </tr>\n",
       "    <tr>\n",
       "      <th>6</th>\n",
       "      <td>Tampa Bay Rays</td>\n",
       "      <td>Win</td>\n",
       "    </tr>\n",
       "    <tr>\n",
       "      <th>8</th>\n",
       "      <td>Pittsburgh Pirates</td>\n",
       "      <td>Win</td>\n",
       "    </tr>\n",
       "  </tbody>\n",
       "</table>\n",
       "</div>"
      ],
      "text/plain": [
       "            home_team home_team_outcome\n",
       "0  Kansas City Royals               Win\n",
       "1     Cincinnati Reds               Win\n",
       "2   Baltimore Orioles               Win\n",
       "6      Tampa Bay Rays               Win\n",
       "8  Pittsburgh Pirates               Win"
      ]
     },
     "execution_count": 63,
     "metadata": {},
     "output_type": "execute_result"
    }
   ],
   "source": [
    "home_game = regular_games[['home_team', 'home_team_outcome']].query('home_team_outcome != \"Loss\"') #дф домашняя команда и исходы игры с победой, удаляем проигрыш\n",
    "home_game.head(5)\n"
   ]
  },
  {
   "cell_type": "code",
   "execution_count": 64,
   "metadata": {},
   "outputs": [
    {
     "data": {
      "text/plain": [
       "home_team                      home_team_outcome\n",
       "Chicago Cubs                   Win                  57\n",
       "Cleveland Indians              Win                  53\n",
       "Los Angeles Dodgers            Win                  53\n",
       "Texas Rangers                  Win                  53\n",
       "Washington Nationals           Win                  50\n",
       "Baltimore Orioles              Win                  50\n",
       "New York Yankees               Win                  48\n",
       "Kansas City Royals             Win                  47\n",
       "Boston Red Sox                 Win                  47\n",
       "Toronto Blue Jays              Win                  46\n",
       "Detroit Tigers                 Win                  45\n",
       "Chicago White Sox              Win                  45\n",
       "San Francisco Giants           Win                  45\n",
       "New York Mets                  Win                  44\n",
       "Seattle Mariners               Win                  44\n",
       "Houston Astros                 Win                  43\n",
       "Colorado Rockies               Win                  42\n",
       "Milwaukee Brewers              Win                  41\n",
       "Miami Marlins                  Win                  40\n",
       "Los Angeles Angels of Anaheim  Win                  40\n",
       "San Diego Padres               Win                  39\n",
       "Pittsburgh Pirates             Win                  38\n",
       "St. Louis Cardinals            Win                  38\n",
       "Cincinnati Reds                Win                  38\n",
       "Philadelphia Phillies          Win                  37\n",
       "Tampa Bay Rays                 Win                  36\n",
       "Oakland Athletics              Win                  34\n",
       "Arizona Diamondbacks           Win                  33\n",
       "Atlanta Braves                 Win                  31\n",
       "Minnesota Twins                Win                  30\n",
       "Name: count, dtype: int64"
      ]
     },
     "execution_count": 64,
     "metadata": {},
     "output_type": "execute_result"
    }
   ],
   "source": [
    "win_home_match = home_game.value_counts() # подсчет количества команд\n",
    "win_home_match #значения отсортированы по убыванию, первая в списке команда, которая выиграла наибольшее количсетво матчей и количество матчей"
   ]
  },
  {
   "cell_type": "markdown",
   "metadata": {
    "pycharm": {
     "name": "#%% md\n"
    }
   },
   "source": [
    "# 16. Какая команда выиграла наибольшее количество гостевых матчей в сезоне?"
   ]
  },
  {
   "cell_type": "code",
   "execution_count": 66,
   "metadata": {
    "pycharm": {
     "name": "#%%\n"
    }
   },
   "outputs": [
    {
     "data": {
      "text/html": [
       "<div>\n",
       "<style scoped>\n",
       "    .dataframe tbody tr th:only-of-type {\n",
       "        vertical-align: middle;\n",
       "    }\n",
       "\n",
       "    .dataframe tbody tr th {\n",
       "        vertical-align: top;\n",
       "    }\n",
       "\n",
       "    .dataframe thead th {\n",
       "        text-align: right;\n",
       "    }\n",
       "</style>\n",
       "<table border=\"1\" class=\"dataframe\">\n",
       "  <thead>\n",
       "    <tr style=\"text-align: right;\">\n",
       "      <th></th>\n",
       "      <th>away_team</th>\n",
       "      <th>home_team_outcome</th>\n",
       "    </tr>\n",
       "  </thead>\n",
       "  <tbody>\n",
       "    <tr>\n",
       "      <th>3</th>\n",
       "      <td>Washington Nationals</td>\n",
       "      <td>Loss</td>\n",
       "    </tr>\n",
       "    <tr>\n",
       "      <th>4</th>\n",
       "      <td>Colorado Rockies</td>\n",
       "      <td>Loss</td>\n",
       "    </tr>\n",
       "    <tr>\n",
       "      <th>5</th>\n",
       "      <td>Seattle Mariners</td>\n",
       "      <td>Loss</td>\n",
       "    </tr>\n",
       "    <tr>\n",
       "      <th>7</th>\n",
       "      <td>Los Angeles Dodgers</td>\n",
       "      <td>Loss</td>\n",
       "    </tr>\n",
       "    <tr>\n",
       "      <th>9</th>\n",
       "      <td>Chicago White Sox</td>\n",
       "      <td>Loss</td>\n",
       "    </tr>\n",
       "  </tbody>\n",
       "</table>\n",
       "</div>"
      ],
      "text/plain": [
       "              away_team home_team_outcome\n",
       "3  Washington Nationals              Loss\n",
       "4      Colorado Rockies              Loss\n",
       "5      Seattle Mariners              Loss\n",
       "7   Los Angeles Dodgers              Loss\n",
       "9     Chicago White Sox              Loss"
      ]
     },
     "execution_count": 66,
     "metadata": {},
     "output_type": "execute_result"
    }
   ],
   "source": [
    "away_game = regular_games[['away_team', 'home_team_outcome']].query('home_team_outcome != \"Win\"')\n",
    "#дф гостевая команда и исходы игры проигрыш домашней команды\n",
    "away_game.head(5)\n"
   ]
  },
  {
   "cell_type": "code",
   "execution_count": 104,
   "metadata": {},
   "outputs": [
    {
     "data": {
      "text/plain": [
       "away_team                      home_team_outcome\n",
       "St. Louis Cardinals            Loss                 48\n",
       "Chicago Cubs                   Loss                 47\n",
       "Boston Red Sox                 Loss                 46\n",
       "Washington Nationals           Loss                 45\n",
       "Toronto Blue Jays              Loss                 43\n",
       "New York Mets                  Loss                 43\n",
       "Texas Rangers                  Loss                 42\n",
       "Seattle Mariners               Loss                 42\n",
       "San Francisco Giants           Loss                 42\n",
       "Cleveland Indians              Loss                 41\n",
       "Houston Astros                 Loss                 41\n",
       "Detroit Tigers                 Loss                 41\n",
       "Pittsburgh Pirates             Loss                 40\n",
       "Baltimore Orioles              Loss                 39\n",
       "Miami Marlins                  Loss                 39\n",
       "Los Angeles Dodgers            Loss                 38\n",
       "Atlanta Braves                 Loss                 37\n",
       "New York Yankees               Loss                 36\n",
       "Arizona Diamondbacks           Loss                 36\n",
       "Oakland Athletics              Loss                 35\n",
       "Philadelphia Phillies          Loss                 34\n",
       "Los Angeles Angels of Anaheim  Loss                 34\n",
       "Kansas City Royals             Loss                 34\n",
       "Colorado Rockies               Loss                 33\n",
       "Chicago White Sox              Loss                 33\n",
       "Tampa Bay Rays                 Loss                 32\n",
       "Milwaukee Brewers              Loss                 32\n",
       "Cincinnati Reds                Loss                 30\n",
       "Minnesota Twins                Loss                 29\n",
       "San Diego Padres               Loss                 29\n",
       "Name: count, dtype: int64"
      ]
     },
     "execution_count": 104,
     "metadata": {},
     "output_type": "execute_result"
    }
   ],
   "source": [
    "win_away_match = away_game.value_counts() #  подсчет количества команд\n",
    "win_away_match#значения отсортированы по убыванию, первая в списке команда, которая выиграла наибольшее количество гостевых матчей и количество матчей"
   ]
  },
  {
   "cell_type": "code",
   "execution_count": 69,
   "metadata": {},
   "outputs": [],
   "source": [
    "#win_away_match = away_game.groupby(['home_team_outcome']).value_counts() # группировка в разрезе исходов игры и подсчет количества команд\n",
    "#win_away_match#значения отсортированы по убыванию, первая в списке команда, которая выиграла наибольшее количество гостевых матчей и количество матчей"
   ]
  },
  {
   "cell_type": "markdown",
   "metadata": {
    "pycharm": {
     "name": "#%% md\n"
    }
   },
   "source": [
    "# 17. Какая команда проиграла наибольшее количество матчей в сезоне?"
   ]
  },
  {
   "cell_type": "code",
   "execution_count": 71,
   "metadata": {
    "pycharm": {
     "name": "#%%\n"
    }
   },
   "outputs": [
    {
     "data": {
      "text/plain": [
       "3          Atlanta Braves\n",
       "4    Arizona Diamondbacks\n",
       "5           Texas Rangers\n",
       "Name: home_team, dtype: object"
      ]
     },
     "execution_count": 71,
     "metadata": {},
     "output_type": "execute_result"
    }
   ],
   "source": [
    "home_reg_season = regular_games[['home_team', 'home_team_outcome']].query('home_team_outcome == \"Loss\"') #для домашних матчей удалили Win-победа\n",
    "loss_home = home_reg_season['home_team']\n",
    "loss_home.head(3)"
   ]
  },
  {
   "cell_type": "code",
   "execution_count": 72,
   "metadata": {},
   "outputs": [
    {
     "data": {
      "text/plain": [
       "0            New York Mets\n",
       "1    Philadelphia Phillies\n",
       "2          Minnesota Twins\n",
       "Name: away_team, dtype: object"
      ]
     },
     "execution_count": 72,
     "metadata": {},
     "output_type": "execute_result"
    }
   ],
   "source": [
    "away_reg_season = regular_games[['away_team', 'home_team_outcome']].query('home_team_outcome != \"Loss\"').replace('Win', 'Loss')\n",
    "loss_away = away_reg_season ['away_team'] \n",
    "#для гостевых матчей-победа домашней команды, поражение гостевой. Удалили поражение гостевой. Заменили Win на Loss\n",
    "loss_away.head(3)"
   ]
  },
  {
   "cell_type": "code",
   "execution_count": 73,
   "metadata": {},
   "outputs": [
    {
     "data": {
      "text/plain": [
       "Minnesota Twins                  103\n",
       "San Diego Padres                  94\n",
       "Tampa Bay Rays                    94\n",
       "Cincinnati Reds                   94\n",
       "Atlanta Braves                    93\n",
       "Arizona Diamondbacks              93\n",
       "Oakland Athletics                 93\n",
       "Philadelphia Phillies             91\n",
       "Milwaukee Brewers                 89\n",
       "Los Angeles Angels of Anaheim     88\n",
       "Colorado Rockies                  87\n",
       "Pittsburgh Pirates                84\n",
       "Chicago White Sox                 84\n",
       "Miami Marlins                     82\n",
       "Kansas City Royals                81\n",
       "Houston Astros                    78\n",
       "New York Yankees                  78\n",
       "Seattle Mariners                  76\n",
       "St. Louis Cardinals               76\n",
       "San Francisco Giants              75\n",
       "Detroit Tigers                    75\n",
       "New York Mets                     75\n",
       "Baltimore Orioles                 73\n",
       "Toronto Blue Jays                 73\n",
       "Los Angeles Dodgers               71\n",
       "Boston Red Sox                    69\n",
       "Cleveland Indians                 67\n",
       "Texas Rangers                     67\n",
       "Washington Nationals              67\n",
       "Chicago Cubs                      58\n",
       "Name: count, dtype: int64"
      ]
     },
     "execution_count": 73,
     "metadata": {},
     "output_type": "execute_result"
    }
   ],
   "source": [
    "loss_teams = pd.concat([loss_home, loss_away]) #объединили поражение команд домашней и гостевой в один df \n",
    "loser = loss_teams.value_counts()#количество поражений каждой команды. Отсортированы по убыванию\n",
    "loser"
   ]
  },
  {
   "cell_type": "code",
   "execution_count": 74,
   "metadata": {},
   "outputs": [],
   "source": [
    "#Minnesota Twins 103 - проиграла наибольшее количество матчей в сезоне"
   ]
  },
  {
   "cell_type": "markdown",
   "metadata": {
    "pycharm": {
     "name": "#%% md\n"
    }
   },
   "source": [
    "# 18. Зависит ли выигрыш от количества посетителей матча? (https://pandas.pydata.org/docs/reference/api/pandas.DataFrame.cov.html)"
   ]
  },
  {
   "cell_type": "code",
   "execution_count": 76,
   "metadata": {
    "pycharm": {
     "name": "#%%\n"
    }
   },
   "outputs": [
    {
     "data": {
      "text/html": [
       "<div>\n",
       "<style scoped>\n",
       "    .dataframe tbody tr th:only-of-type {\n",
       "        vertical-align: middle;\n",
       "    }\n",
       "\n",
       "    .dataframe tbody tr th {\n",
       "        vertical-align: top;\n",
       "    }\n",
       "\n",
       "    .dataframe thead th {\n",
       "        text-align: right;\n",
       "    }\n",
       "</style>\n",
       "<table border=\"1\" class=\"dataframe\">\n",
       "  <thead>\n",
       "    <tr style=\"text-align: right;\">\n",
       "      <th></th>\n",
       "      <th>attendance</th>\n",
       "      <th>home_team_win</th>\n",
       "    </tr>\n",
       "  </thead>\n",
       "  <tbody>\n",
       "    <tr>\n",
       "      <th>attendance</th>\n",
       "      <td>9.752484e+07</td>\n",
       "      <td>224.9719</td>\n",
       "    </tr>\n",
       "    <tr>\n",
       "      <th>home_team_win</th>\n",
       "      <td>2.249719e+02</td>\n",
       "      <td>0.2492</td>\n",
       "    </tr>\n",
       "  </tbody>\n",
       "</table>\n",
       "</div>"
      ],
      "text/plain": [
       "                 attendance  home_team_win\n",
       "attendance     9.752484e+07       224.9719\n",
       "home_team_win  2.249719e+02         0.2492"
      ]
     },
     "execution_count": 76,
     "metadata": {},
     "output_type": "execute_result"
    }
   ],
   "source": [
    "df_home = data[['attendance', 'home_team_win']]\n",
    "round(df_home.cov(), 4)"
   ]
  },
  {
   "cell_type": "code",
   "execution_count": 77,
   "metadata": {},
   "outputs": [],
   "source": [
    "#количество зрителей и победа домашней команды - положительная ковариация показывает, что количество зрителей и число побед \n",
    "# изменяются вместе, т.е. чем больше зрителей, больше побед"
   ]
  },
  {
   "cell_type": "code",
   "execution_count": 78,
   "metadata": {},
   "outputs": [
    {
     "data": {
      "text/html": [
       "<div>\n",
       "<style scoped>\n",
       "    .dataframe tbody tr th:only-of-type {\n",
       "        vertical-align: middle;\n",
       "    }\n",
       "\n",
       "    .dataframe tbody tr th {\n",
       "        vertical-align: top;\n",
       "    }\n",
       "\n",
       "    .dataframe thead th {\n",
       "        text-align: right;\n",
       "    }\n",
       "</style>\n",
       "<table border=\"1\" class=\"dataframe\">\n",
       "  <thead>\n",
       "    <tr style=\"text-align: right;\">\n",
       "      <th></th>\n",
       "      <th>attendance</th>\n",
       "      <th>home_team_loss</th>\n",
       "    </tr>\n",
       "  </thead>\n",
       "  <tbody>\n",
       "    <tr>\n",
       "      <th>attendance</th>\n",
       "      <td>9.752484e+07</td>\n",
       "      <td>-220.7508</td>\n",
       "    </tr>\n",
       "    <tr>\n",
       "      <th>home_team_loss</th>\n",
       "      <td>-2.207508e+02</td>\n",
       "      <td>0.2492</td>\n",
       "    </tr>\n",
       "  </tbody>\n",
       "</table>\n",
       "</div>"
      ],
      "text/plain": [
       "                  attendance  home_team_loss\n",
       "attendance      9.752484e+07       -220.7508\n",
       "home_team_loss -2.207508e+02          0.2492"
      ]
     },
     "execution_count": 78,
     "metadata": {},
     "output_type": "execute_result"
    }
   ],
   "source": [
    "df_away = data[['attendance', 'home_team_loss']]\n",
    "round(df_away.cov(), 4)"
   ]
  },
  {
   "cell_type": "code",
   "execution_count": 79,
   "metadata": {},
   "outputs": [],
   "source": [
    "#количество зрителей и победа гостевой команды - отрицательная ковариация показывает, что количество зрителей и число побед \n",
    "# изменяются в обратном направлении, т.е. чем больше зрителей, меньше побед"
   ]
  },
  {
   "cell_type": "markdown",
   "metadata": {
    "pycharm": {
     "name": "#%% md\n"
    }
   },
   "source": [
    "# 19. Правда ли что большинство проигрышных домашних матчей приходятся на Субботу и Воскресенье?"
   ]
  },
  {
   "cell_type": "code",
   "execution_count": 81,
   "metadata": {
    "pycharm": {
     "name": "#%%\n"
    }
   },
   "outputs": [
    {
     "data": {
      "text/plain": [
       "day_of_week\n",
       "Sunday       190\n",
       "Tuesday      187\n",
       "Friday       184\n",
       "Saturday     175\n",
       "Wednesday    167\n",
       "Monday       131\n",
       "Thursday     125\n",
       "Name: count, dtype: int64"
      ]
     },
     "execution_count": 81,
     "metadata": {},
     "output_type": "execute_result"
    }
   ],
   "source": [
    "loss_match = data.query('home_team_outcome == \"Loss\"')['day_of_week']# отбор проигранных матчей, дни недели, в которые проходили матчи\n",
    "loss_match.value_counts() \n"
   ]
  },
  {
   "cell_type": "code",
   "execution_count": 82,
   "metadata": {
    "pycharm": {
     "name": "#%%\n"
    }
   },
   "outputs": [
    {
     "data": {
      "text/plain": [
       "array(['regular season', 'post season'], dtype=object)"
      ]
     },
     "execution_count": 82,
     "metadata": {},
     "output_type": "execute_result"
    }
   ],
   "source": [
    "data['season'].unique() #значения столбца season"
   ]
  },
  {
   "cell_type": "code",
   "execution_count": 106,
   "metadata": {},
   "outputs": [],
   "source": [
    "#На воскресенье прошло большинство проигранных матчей, для субботы утверждение неверно"
   ]
  },
  {
   "cell_type": "markdown",
   "metadata": {
    "pycharm": {
     "name": "#%% md\n"
    }
   },
   "source": [
    "# 20. Правда ли что наибольшее количество ранов происходит в холодную погоду? (Холодной погодой считается погода ниже 0 градусов)"
   ]
  },
  {
   "cell_type": "code",
   "execution_count": 110,
   "metadata": {},
   "outputs": [
    {
     "data": {
      "text/html": [
       "<div>\n",
       "<style scoped>\n",
       "    .dataframe tbody tr th:only-of-type {\n",
       "        vertical-align: middle;\n",
       "    }\n",
       "\n",
       "    .dataframe tbody tr th {\n",
       "        vertical-align: top;\n",
       "    }\n",
       "\n",
       "    .dataframe thead th {\n",
       "        text-align: right;\n",
       "    }\n",
       "</style>\n",
       "<table border=\"1\" class=\"dataframe\">\n",
       "  <thead>\n",
       "    <tr style=\"text-align: right;\">\n",
       "      <th></th>\n",
       "      <th>Unnamed: 0</th>\n",
       "      <th>attendance</th>\n",
       "      <th>away_team</th>\n",
       "      <th>away_team_errors</th>\n",
       "      <th>away_team_hits</th>\n",
       "      <th>away_team_runs</th>\n",
       "      <th>date</th>\n",
       "      <th>field_type</th>\n",
       "      <th>game_type</th>\n",
       "      <th>home_team</th>\n",
       "      <th>...</th>\n",
       "      <th>wind_speed</th>\n",
       "      <th>wind_direction</th>\n",
       "      <th>sky</th>\n",
       "      <th>total_runs</th>\n",
       "      <th>game_hours_dec</th>\n",
       "      <th>season</th>\n",
       "      <th>home_team_win</th>\n",
       "      <th>home_team_loss</th>\n",
       "      <th>home_team_outcome</th>\n",
       "      <th>temp_C</th>\n",
       "    </tr>\n",
       "  </thead>\n",
       "  <tbody>\n",
       "    <tr>\n",
       "      <th>0</th>\n",
       "      <td>0</td>\n",
       "      <td>40030.0</td>\n",
       "      <td>New York Mets</td>\n",
       "      <td>1</td>\n",
       "      <td>7</td>\n",
       "      <td>3</td>\n",
       "      <td>2016-04-03</td>\n",
       "      <td>on grass</td>\n",
       "      <td>Night Game</td>\n",
       "      <td>Kansas City Royals</td>\n",
       "      <td>...</td>\n",
       "      <td>14.0</td>\n",
       "      <td>from Right to Left</td>\n",
       "      <td>Sunny</td>\n",
       "      <td>7</td>\n",
       "      <td>3.216667</td>\n",
       "      <td>regular season</td>\n",
       "      <td>1</td>\n",
       "      <td>0</td>\n",
       "      <td>Win</td>\n",
       "      <td>23.33</td>\n",
       "    </tr>\n",
       "    <tr>\n",
       "      <th>1</th>\n",
       "      <td>1</td>\n",
       "      <td>21621.0</td>\n",
       "      <td>Philadelphia Phillies</td>\n",
       "      <td>0</td>\n",
       "      <td>5</td>\n",
       "      <td>2</td>\n",
       "      <td>2016-04-06</td>\n",
       "      <td>on grass</td>\n",
       "      <td>Night Game</td>\n",
       "      <td>Cincinnati Reds</td>\n",
       "      <td>...</td>\n",
       "      <td>24.0</td>\n",
       "      <td>from Right to Left</td>\n",
       "      <td>Overcast</td>\n",
       "      <td>5</td>\n",
       "      <td>2.383333</td>\n",
       "      <td>regular season</td>\n",
       "      <td>1</td>\n",
       "      <td>0</td>\n",
       "      <td>Win</td>\n",
       "      <td>12.78</td>\n",
       "    </tr>\n",
       "    <tr>\n",
       "      <th>2</th>\n",
       "      <td>2</td>\n",
       "      <td>12622.0</td>\n",
       "      <td>Minnesota Twins</td>\n",
       "      <td>0</td>\n",
       "      <td>5</td>\n",
       "      <td>2</td>\n",
       "      <td>2016-04-06</td>\n",
       "      <td>on grass</td>\n",
       "      <td>Night Game</td>\n",
       "      <td>Baltimore Orioles</td>\n",
       "      <td>...</td>\n",
       "      <td>7.0</td>\n",
       "      <td>out to Leftfield</td>\n",
       "      <td>Unknown</td>\n",
       "      <td>6</td>\n",
       "      <td>3.183333</td>\n",
       "      <td>regular season</td>\n",
       "      <td>1</td>\n",
       "      <td>0</td>\n",
       "      <td>Win</td>\n",
       "      <td>8.89</td>\n",
       "    </tr>\n",
       "    <tr>\n",
       "      <th>3</th>\n",
       "      <td>3</td>\n",
       "      <td>18531.0</td>\n",
       "      <td>Washington Nationals</td>\n",
       "      <td>0</td>\n",
       "      <td>8</td>\n",
       "      <td>3</td>\n",
       "      <td>2016-04-06</td>\n",
       "      <td>on grass</td>\n",
       "      <td>Night Game</td>\n",
       "      <td>Atlanta Braves</td>\n",
       "      <td>...</td>\n",
       "      <td>10.0</td>\n",
       "      <td>from Right to Left</td>\n",
       "      <td>Cloudy</td>\n",
       "      <td>4</td>\n",
       "      <td>2.883333</td>\n",
       "      <td>regular season</td>\n",
       "      <td>0</td>\n",
       "      <td>1</td>\n",
       "      <td>Loss</td>\n",
       "      <td>18.33</td>\n",
       "    </tr>\n",
       "    <tr>\n",
       "      <th>4</th>\n",
       "      <td>4</td>\n",
       "      <td>18572.0</td>\n",
       "      <td>Colorado Rockies</td>\n",
       "      <td>1</td>\n",
       "      <td>8</td>\n",
       "      <td>4</td>\n",
       "      <td>2016-04-06</td>\n",
       "      <td>on grass</td>\n",
       "      <td>Day Game</td>\n",
       "      <td>Arizona Diamondbacks</td>\n",
       "      <td>...</td>\n",
       "      <td>0.0</td>\n",
       "      <td>in unknown direction</td>\n",
       "      <td>In Dome</td>\n",
       "      <td>7</td>\n",
       "      <td>2.650000</td>\n",
       "      <td>regular season</td>\n",
       "      <td>0</td>\n",
       "      <td>1</td>\n",
       "      <td>Loss</td>\n",
       "      <td>25.00</td>\n",
       "    </tr>\n",
       "  </tbody>\n",
       "</table>\n",
       "<p>5 rows × 27 columns</p>\n",
       "</div>"
      ],
      "text/plain": [
       "   Unnamed: 0  attendance              away_team  away_team_errors  \\\n",
       "0           0     40030.0          New York Mets                 1   \n",
       "1           1     21621.0  Philadelphia Phillies                 0   \n",
       "2           2     12622.0        Minnesota Twins                 0   \n",
       "3           3     18531.0   Washington Nationals                 0   \n",
       "4           4     18572.0       Colorado Rockies                 1   \n",
       "\n",
       "   away_team_hits  away_team_runs        date field_type   game_type  \\\n",
       "0               7               3  2016-04-03   on grass  Night Game   \n",
       "1               5               2  2016-04-06   on grass  Night Game   \n",
       "2               5               2  2016-04-06   on grass  Night Game   \n",
       "3               8               3  2016-04-06   on grass  Night Game   \n",
       "4               8               4  2016-04-06   on grass    Day Game   \n",
       "\n",
       "              home_team  ...  wind_speed         wind_direction       sky  \\\n",
       "0    Kansas City Royals  ...        14.0     from Right to Left     Sunny   \n",
       "1       Cincinnati Reds  ...        24.0     from Right to Left  Overcast   \n",
       "2     Baltimore Orioles  ...         7.0       out to Leftfield   Unknown   \n",
       "3        Atlanta Braves  ...        10.0     from Right to Left    Cloudy   \n",
       "4  Arizona Diamondbacks  ...         0.0   in unknown direction   In Dome   \n",
       "\n",
       "  total_runs game_hours_dec          season  home_team_win  home_team_loss  \\\n",
       "0          7       3.216667  regular season              1               0   \n",
       "1          5       2.383333  regular season              1               0   \n",
       "2          6       3.183333  regular season              1               0   \n",
       "3          4       2.883333  regular season              0               1   \n",
       "4          7       2.650000  regular season              0               1   \n",
       "\n",
       "  home_team_outcome temp_C  \n",
       "0               Win  23.33  \n",
       "1               Win  12.78  \n",
       "2               Win   8.89  \n",
       "3              Loss  18.33  \n",
       "4              Loss  25.00  \n",
       "\n",
       "[5 rows x 27 columns]"
      ]
     },
     "execution_count": 110,
     "metadata": {},
     "output_type": "execute_result"
    }
   ],
   "source": [
    "data['temp_C'] = round((data['temperature'] - 32)*5/9, 2) #перевод фаренгейтов в цельсии. Добавлена колонка для значения C\n",
    "data.head(5)"
   ]
  },
  {
   "cell_type": "code",
   "execution_count": 112,
   "metadata": {},
   "outputs": [
    {
     "data": {
      "text/html": [
       "<div>\n",
       "<style scoped>\n",
       "    .dataframe tbody tr th:only-of-type {\n",
       "        vertical-align: middle;\n",
       "    }\n",
       "\n",
       "    .dataframe tbody tr th {\n",
       "        vertical-align: top;\n",
       "    }\n",
       "\n",
       "    .dataframe thead th {\n",
       "        text-align: right;\n",
       "    }\n",
       "</style>\n",
       "<table border=\"1\" class=\"dataframe\">\n",
       "  <thead>\n",
       "    <tr style=\"text-align: right;\">\n",
       "      <th></th>\n",
       "      <th>Unnamed: 0</th>\n",
       "      <th>attendance</th>\n",
       "      <th>away_team</th>\n",
       "      <th>away_team_errors</th>\n",
       "      <th>away_team_hits</th>\n",
       "      <th>away_team_runs</th>\n",
       "      <th>date</th>\n",
       "      <th>field_type</th>\n",
       "      <th>game_type</th>\n",
       "      <th>home_team</th>\n",
       "      <th>...</th>\n",
       "      <th>wind_speed</th>\n",
       "      <th>wind_direction</th>\n",
       "      <th>sky</th>\n",
       "      <th>total_runs</th>\n",
       "      <th>game_hours_dec</th>\n",
       "      <th>season</th>\n",
       "      <th>home_team_win</th>\n",
       "      <th>home_team_loss</th>\n",
       "      <th>home_team_outcome</th>\n",
       "      <th>temp_C</th>\n",
       "    </tr>\n",
       "  </thead>\n",
       "  <tbody>\n",
       "    <tr>\n",
       "      <th>2409</th>\n",
       "      <td>2409</td>\n",
       "      <td>32419.0</td>\n",
       "      <td>New York Yankees</td>\n",
       "      <td>1</td>\n",
       "      <td>13</td>\n",
       "      <td>8</td>\n",
       "      <td>2016-04-09</td>\n",
       "      <td>on grass</td>\n",
       "      <td>Day Game</td>\n",
       "      <td>Detroit Tigers</td>\n",
       "      <td>...</td>\n",
       "      <td>18.0</td>\n",
       "      <td>from Left to Right</td>\n",
       "      <td>Cloudy</td>\n",
       "      <td>12</td>\n",
       "      <td>3.333333</td>\n",
       "      <td>regular season</td>\n",
       "      <td>0</td>\n",
       "      <td>1</td>\n",
       "      <td>Loss</td>\n",
       "      <td>-0.56</td>\n",
       "    </tr>\n",
       "  </tbody>\n",
       "</table>\n",
       "<p>1 rows × 27 columns</p>\n",
       "</div>"
      ],
      "text/plain": [
       "      Unnamed: 0  attendance         away_team  away_team_errors  \\\n",
       "2409        2409     32419.0  New York Yankees                 1   \n",
       "\n",
       "      away_team_hits  away_team_runs        date field_type game_type  \\\n",
       "2409              13               8  2016-04-09   on grass  Day Game   \n",
       "\n",
       "           home_team  ...  wind_speed       wind_direction     sky total_runs  \\\n",
       "2409  Detroit Tigers  ...        18.0   from Left to Right  Cloudy         12   \n",
       "\n",
       "     game_hours_dec          season  home_team_win  home_team_loss  \\\n",
       "2409       3.333333  regular season              0               1   \n",
       "\n",
       "     home_team_outcome temp_C  \n",
       "2409              Loss  -0.56  \n",
       "\n",
       "[1 rows x 27 columns]"
      ]
     },
     "execution_count": 112,
     "metadata": {},
     "output_type": "execute_result"
    }
   ],
   "source": [
    "max_runs_c = data.query('temp_C<0')\n",
    "max_runs_c"
   ]
  },
  {
   "cell_type": "code",
   "execution_count": 114,
   "metadata": {},
   "outputs": [
    {
     "data": {
      "text/html": [
       "<div>\n",
       "<style scoped>\n",
       "    .dataframe tbody tr th:only-of-type {\n",
       "        vertical-align: middle;\n",
       "    }\n",
       "\n",
       "    .dataframe tbody tr th {\n",
       "        vertical-align: top;\n",
       "    }\n",
       "\n",
       "    .dataframe thead th {\n",
       "        text-align: right;\n",
       "    }\n",
       "</style>\n",
       "<table border=\"1\" class=\"dataframe\">\n",
       "  <thead>\n",
       "    <tr style=\"text-align: right;\">\n",
       "      <th></th>\n",
       "      <th>Unnamed: 0</th>\n",
       "      <th>attendance</th>\n",
       "      <th>away_team</th>\n",
       "      <th>away_team_errors</th>\n",
       "      <th>away_team_hits</th>\n",
       "      <th>away_team_runs</th>\n",
       "      <th>date</th>\n",
       "      <th>field_type</th>\n",
       "      <th>game_type</th>\n",
       "      <th>home_team</th>\n",
       "      <th>...</th>\n",
       "      <th>wind_speed</th>\n",
       "      <th>wind_direction</th>\n",
       "      <th>sky</th>\n",
       "      <th>total_runs</th>\n",
       "      <th>game_hours_dec</th>\n",
       "      <th>season</th>\n",
       "      <th>home_team_win</th>\n",
       "      <th>home_team_loss</th>\n",
       "      <th>home_team_outcome</th>\n",
       "      <th>temp_C</th>\n",
       "    </tr>\n",
       "  </thead>\n",
       "  <tbody>\n",
       "  </tbody>\n",
       "</table>\n",
       "<p>0 rows × 27 columns</p>\n",
       "</div>"
      ],
      "text/plain": [
       "Empty DataFrame\n",
       "Columns: [Unnamed: 0, attendance, away_team, away_team_errors, away_team_hits, away_team_runs, date, field_type, game_type, home_team, home_team_errors, home_team_hits, home_team_runs, start_time, venue, day_of_week, temperature, wind_speed, wind_direction, sky, total_runs, game_hours_dec, season, home_team_win, home_team_loss, home_team_outcome, temp_C]\n",
       "Index: []\n",
       "\n",
       "[0 rows x 27 columns]"
      ]
     },
     "execution_count": 114,
     "metadata": {},
     "output_type": "execute_result"
    }
   ],
   "source": [
    "max_runs_f = data.query('temperature < 0')\n",
    "max_runs_f"
   ]
  },
  {
   "cell_type": "code",
   "execution_count": null,
   "metadata": {},
   "outputs": [],
   "source": [
    "max_runs_c[['total_runs', 'away_team_runs', 'home_team_runs']]"
   ]
  },
  {
   "cell_type": "code",
   "execution_count": null,
   "metadata": {},
   "outputs": [],
   "source": [
    "#В Фаренгейтах в анализируемом DF нет значения температуры меньше 0. При переводе в цельсии одно значение ниже 0, \n",
    "#т.е. 1 игра состоялась при температуре ниже 0, но ранс не соответствует максимальному значению"
   ]
  },
  {
   "cell_type": "code",
   "execution_count": null,
   "metadata": {},
   "outputs": [],
   "source": [
    "#Поэтому невозможно подтвердить, что наибольшее количество ранов происходит в холодную погоду"
   ]
  }
 ],
 "metadata": {
  "kernelspec": {
   "display_name": "Python 3 (ipykernel)",
   "language": "python",
   "name": "python3"
  },
  "language_info": {
   "codemirror_mode": {
    "name": "ipython",
    "version": 3
   },
   "file_extension": ".py",
   "mimetype": "text/x-python",
   "name": "python",
   "nbconvert_exporter": "python",
   "pygments_lexer": "ipython3",
   "version": "3.12.4"
  }
 },
 "nbformat": 4,
 "nbformat_minor": 4
}
